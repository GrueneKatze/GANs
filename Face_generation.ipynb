{
  "nbformat": 4,
  "nbformat_minor": 0,
  "metadata": {
    "colab": {
      "name": "Face_generation.ipynb",
      "provenance": [],
      "include_colab_link": true
    },
    "kernelspec": {
      "name": "python3",
      "display_name": "Python 3"
    },
    "language_info": {
      "name": "python"
    },
    "accelerator": "GPU"
  },
  "cells": [
    {
      "cell_type": "markdown",
      "metadata": {
        "id": "view-in-github",
        "colab_type": "text"
      },
      "source": [
        "<a href=\"https://colab.research.google.com/github/GrueneKatze/GANs/blob/main/Face_generation.ipynb\" target=\"_parent\"><img src=\"https://colab.research.google.com/assets/colab-badge.svg\" alt=\"Open In Colab\"/></a>"
      ]
    },
    {
      "cell_type": "markdown",
      "metadata": {
        "id": "DV8OkcaFmgrw"
      },
      "source": [
        "##TF Progressive GAN Model with Celeba"
      ]
    },
    {
      "cell_type": "code",
      "metadata": {
        "colab": {
          "base_uri": "https://localhost:8080/"
        },
        "id": "-0MpslTvmOgk",
        "outputId": "d7ea5914-6f1c-4395-9fec-864fa2493af6"
      },
      "source": [
        "!pip -q install imageio\n",
        "!pip -q install scikit-image\n",
        "!pip install git+https://github.com/tensorflow/docs"
      ],
      "execution_count": null,
      "outputs": [
        {
          "output_type": "stream",
          "text": [
            "Collecting git+https://github.com/tensorflow/docs\n",
            "  Cloning https://github.com/tensorflow/docs to /tmp/pip-req-build-278hvqz8\n",
            "  Running command git clone -q https://github.com/tensorflow/docs /tmp/pip-req-build-278hvqz8\n",
            "Requirement already satisfied: astor in /usr/local/lib/python3.7/dist-packages (from tensorflow-docs===0.0.0304a7e4a90e53751ac59cab46667d78e81736fa3-) (0.8.1)\n",
            "Requirement already satisfied: absl-py in /usr/local/lib/python3.7/dist-packages (from tensorflow-docs===0.0.0304a7e4a90e53751ac59cab46667d78e81736fa3-) (0.12.0)\n",
            "Requirement already satisfied: protobuf>=3.14 in /usr/local/lib/python3.7/dist-packages (from tensorflow-docs===0.0.0304a7e4a90e53751ac59cab46667d78e81736fa3-) (3.17.3)\n",
            "Requirement already satisfied: pyyaml in /usr/local/lib/python3.7/dist-packages (from tensorflow-docs===0.0.0304a7e4a90e53751ac59cab46667d78e81736fa3-) (3.13)\n",
            "Requirement already satisfied: six>=1.9 in /usr/local/lib/python3.7/dist-packages (from protobuf>=3.14->tensorflow-docs===0.0.0304a7e4a90e53751ac59cab46667d78e81736fa3-) (1.15.0)\n",
            "Building wheels for collected packages: tensorflow-docs\n",
            "  Building wheel for tensorflow-docs (setup.py) ... \u001b[?25l\u001b[?25hdone\n",
            "  Created wheel for tensorflow-docs: filename=tensorflow_docs-0.0.0304a7e4a90e53751ac59cab46667d78e81736fa3_-py3-none-any.whl size=154235 sha256=44f71a13ac6343d2fb1132c81315cf06e84e0df6fbf43ff5efbb5df8cbd7fdd6\n",
            "  Stored in directory: /tmp/pip-ephem-wheel-cache-6t7dozvq/wheels/cc/c4/d8/5341e93b6376c5c929c49469fce21155eb69cef1a4da4ce32c\n",
            "\u001b[33m  WARNING: Built wheel for tensorflow-docs is invalid: Metadata 1.2 mandates PEP 440 version, but '0.0.0304a7e4a90e53751ac59cab46667d78e81736fa3-' is not\u001b[0m\n",
            "Failed to build tensorflow-docs\n",
            "Installing collected packages: tensorflow-docs\n",
            "    Running setup.py install for tensorflow-docs ... \u001b[?25l\u001b[?25hdone\n",
            "\u001b[33m  DEPRECATION: tensorflow-docs was installed using the legacy 'setup.py install' method, because a wheel could not be built for it. A possible replacement is to fix the wheel build issue reported above. You can find discussion regarding this at https://github.com/pypa/pip/issues/8368.\u001b[0m\n",
            "Successfully installed tensorflow-docs-0.0.0304a7e4a90e53751ac59cab46667d78e81736fa3-\n"
          ],
          "name": "stdout"
        }
      ]
    },
    {
      "cell_type": "code",
      "metadata": {
        "id": "05et_2E1nAgj"
      },
      "source": [
        "from absl import logging\n",
        "\n",
        "import imageio\n",
        "import PIL.Image\n",
        "import matplotlib.pyplot as plt\n",
        "import numpy as np\n",
        "\n",
        "import tensorflow as tf\n",
        "tf.random.set_seed(0)\n",
        "\n",
        "import tensorflow_hub as hub\n",
        "from tensorflow_docs.vis import embed\n",
        "import time\n",
        "\n",
        "try:\n",
        "  from google.colab import files\n",
        "except ImportError:\n",
        "  pass\n",
        "\n",
        "from IPython import display\n",
        "from skimage import transform\n",
        "\n",
        "# We could retrieve this value from module.get_input_shapes() if we didn't know\n",
        "# beforehand which module we will be using.\n",
        "latent_dim = 512\n",
        "\n",
        "\n",
        "# Interpolates between two vectors that are non-zero and don't both lie on a\n",
        "# line going through origin. First normalizes v2 to have the same norm as v1. \n",
        "# Then interpolates between the two vectors on the hypersphere.\n",
        "def interpolate_hypersphere(v1, v2, num_steps):\n",
        "  v1_norm = tf.norm(v1)\n",
        "  v2_norm = tf.norm(v2)\n",
        "  v2_normalized = v2 * (v1_norm / v2_norm)\n",
        "\n",
        "  vectors = []\n",
        "  for step in range(num_steps):\n",
        "    interpolated = v1 + (v2_normalized - v1) * step / (num_steps - 1)\n",
        "    interpolated_norm = tf.norm(interpolated)\n",
        "    interpolated_normalized = interpolated * (v1_norm / interpolated_norm)\n",
        "    vectors.append(interpolated_normalized)\n",
        "  return tf.stack(vectors)\n",
        "\n",
        "# Simple way to display an image.\n",
        "def display_image(image):\n",
        "  image = tf.constant(image)\n",
        "  image = tf.image.convert_image_dtype(image, tf.uint8)\n",
        "  return PIL.Image.fromarray(image.numpy())\n",
        "\n",
        "# Given a set of images, show an animation.\n",
        "def animate(images):\n",
        "  images = np.array(images)\n",
        "  converted_images = np.clip(images * 255, 0, 255).astype(np.uint8)\n",
        "  imageio.mimsave('./animation.gif', converted_images)\n",
        "  return embed.embed_file('./animation.gif')\n",
        "\n",
        "logging.set_verbosity(logging.ERROR)"
      ],
      "execution_count": null,
      "outputs": []
    },
    {
      "cell_type": "code",
      "metadata": {
        "id": "k7if-h2in0Ax"
      },
      "source": [
        "progan = hub.load(\"https://tfhub.dev/google/progan-128/1\").signatures['default']"
      ],
      "execution_count": null,
      "outputs": []
    },
    {
      "cell_type": "code",
      "metadata": {
        "id": "7ov2u7pgn35K"
      },
      "source": [
        "def interpolate_between_vectors():\n",
        "  v1 = tf.random.normal([latent_dim])\n",
        "  v2 = tf.random.normal([latent_dim])\n",
        "\n",
        "  # Creates a tensor with 200 steps of interpolation between v1 and v2.\n",
        "  vectors = interpolate_hypersphere(v1, v2, 200)\n",
        "\n",
        "  # Uses module to generate images from the latent space.\n",
        "  interpolated_images = progan(vectors)['default']\n",
        "\n",
        "  return interpolated_images\n",
        "\n",
        "interpolated_images = interpolate_between_vectors()\n",
        "#animate(interpolated_images)"
      ],
      "execution_count": null,
      "outputs": []
    },
    {
      "cell_type": "code",
      "metadata": {
        "colab": {
          "base_uri": "https://localhost:8080/",
          "height": 145
        },
        "id": "iFxdjSv8oVnY",
        "outputId": "8241e889-d0de-4220-98df-43e2abe69f74"
      },
      "source": [
        "display_image(interpolated_images[180])"
      ],
      "execution_count": null,
      "outputs": [
        {
          "output_type": "execute_result",
          "data": {
            "image/png": "[encoded data removed]",
            "text/plain": [
              "<PIL.Image.Image image mode=RGB size=128x128 at 0x7F6ACF4C8710>"
            ]
          },
          "metadata": {
            "tags": []
          },
          "execution_count": 12
        }
      ]
    },
    {
      "cell_type": "code",
      "metadata": {
        "colab": {
          "base_uri": "https://localhost:8080/",
          "height": 145
        },
        "id": "3VJjEYoCpgFh",
        "outputId": "cfdd50bd-f27f-49e9-bbd9-750a6151e074"
      },
      "source": [
        "image_from_module_space = True  # @param { isTemplate:true, type:\"boolean\" }\n",
        "\n",
        "def get_module_space_image():\n",
        "  vector = tf.random.normal([1, latent_dim])\n",
        "  images = progan(vector)['default'][0]\n",
        "  return images\n",
        "\n",
        "def upload_image():\n",
        "  uploaded = files.upload()\n",
        "  image = imageio.imread(uploaded[list(uploaded.keys())[0]])\n",
        "  return transform.resize(image, [128, 128])\n",
        "\n",
        "if image_from_module_space:\n",
        "  target_image = get_module_space_image()\n",
        "else:\n",
        "  target_image = upload_image()\n",
        "\n",
        "display_image(target_image)"
      ],
      "execution_count": null,
      "outputs": [
        {
          "output_type": "execute_result",
          "data": {
            "image/png": "[encoded data removed]",
            "text/plain": [
              "<PIL.Image.Image image mode=RGB size=128x128 at 0x7F6E700B8850>"
            ]
          },
          "metadata": {
            "tags": []
          },
          "execution_count": 13
        }
      ]
    },
    {
      "cell_type": "code",
      "metadata": {
        "id": "VwtqhuLaqBdm"
      },
      "source": [
        "#tf.random.set_seed(42)\n",
        "initial_vector = tf.random.normal([1, latent_dim])"
      ],
      "execution_count": null,
      "outputs": []
    },
    {
      "cell_type": "code",
      "metadata": {
        "colab": {
          "base_uri": "https://localhost:8080/",
          "height": 145
        },
        "id": "6cPaig51qKTq",
        "outputId": "1fcc1825-d337-4702-9450-fa7476a2cda9"
      },
      "source": [
        "display_image(progan(initial_vector)['default'][0])"
      ],
      "execution_count": null,
      "outputs": [
        {
          "output_type": "execute_result",
          "data": {
            "image/png": "[encoded data removed]",
            "text/plain": [
              "<PIL.Image.Image image mode=RGB size=128x128 at 0x7F6ACF410A90>"
            ]
          },
          "metadata": {
            "tags": []
          },
          "execution_count": 22
        }
      ]
    },
    {
      "cell_type": "code",
      "metadata": {
        "colab": {
          "base_uri": "https://localhost:8080/"
        },
        "id": "s0wcL5W_sZ9E",
        "outputId": "9a640822-aa2e-43ff-f82b-c9684c97c80f"
      },
      "source": [
        "def find_closest_latent_vector(initial_vector, num_optimization_steps,\n",
        "                               steps_per_image):\n",
        "  images = []\n",
        "  losses = []\n",
        "\n",
        "  vector = tf.Variable(initial_vector)  \n",
        "  optimizer = tf.optimizers.Adam(learning_rate=0.01)\n",
        "  loss_fn = tf.losses.MeanAbsoluteError(reduction=\"sum\")\n",
        "\n",
        "  for step in range(num_optimization_steps):\n",
        "    if (step % 100)==0:\n",
        "      print()\n",
        "    print('.', end='')\n",
        "    with tf.GradientTape() as tape:\n",
        "      image = progan(vector.read_value())['default'][0]\n",
        "      if (step % steps_per_image) == 0:\n",
        "        images.append(image.numpy())\n",
        "      target_image_difference = loss_fn(image, target_image[:,:,:3])\n",
        "      # The latent vectors were sampled from a normal distribution. We can get\n",
        "      # more realistic images if we regularize the length of the latent vector to \n",
        "      # the average length of vector from this distribution.\n",
        "      regularizer = tf.abs(tf.norm(vector) - np.sqrt(latent_dim))\n",
        "\n",
        "      loss = target_image_difference + regularizer\n",
        "      losses.append(loss.numpy())\n",
        "    grads = tape.gradient(loss, [vector])\n",
        "    optimizer.apply_gradients(zip(grads, [vector]))\n",
        "\n",
        "  return images, losses\n",
        "\n",
        "\n",
        "num_optimization_steps=100\n",
        "steps_per_image=5\n",
        "images, loss = find_closest_latent_vector(initial_vector, num_optimization_steps, steps_per_image)"
      ],
      "execution_count": null,
      "outputs": [
        {
          "output_type": "stream",
          "text": [
            "\n",
            "...................................................................................................."
          ],
          "name": "stdout"
        }
      ]
    },
    {
      "cell_type": "code",
      "metadata": {
        "colab": {
          "base_uri": "https://localhost:8080/",
          "height": 283
        },
        "id": "fMFJ1dhesr6p",
        "outputId": "0b5d5255-96eb-4447-eeff-913a0a0933d2"
      },
      "source": [
        "plt.plot(loss)\n",
        "plt.ylim([0,max(plt.ylim())])"
      ],
      "execution_count": null,
      "outputs": [
        {
          "output_type": "execute_result",
          "data": {
            "text/plain": [
              "(0.0, 5325.40034790039)"
            ]
          },
          "metadata": {
            "tags": []
          },
          "execution_count": 27
        },
        {
          "output_type": "display_data",
          "data": {
            "image/png": "[encoded data removed]",
            "text/plain": [
              "<Figure size 432x288 with 1 Axes>"
            ]
          },
          "metadata": {
            "tags": [],
            "needs_background": "light"
          }
        }
      ]
    },
    {
      "cell_type": "code",
      "metadata": {
        "colab": {
          "base_uri": "https://localhost:8080/",
          "height": 145
        },
        "id": "XpPhygTxsx1T",
        "outputId": "9ef575c0-3d88-4575-e77f-a483b0106ecf"
      },
      "source": [
        "display_image(np.concatenate([images[-1], target_image], axis=1))"
      ],
      "execution_count": null,
      "outputs": [
        {
          "output_type": "execute_result",
          "data": {
            "image/png": "[encoded data removed]",
            "text/plain": [
              "<PIL.Image.Image image mode=RGB size=256x128 at 0x7F6ACD0B74D0>"
            ]
          },
          "metadata": {
            "tags": []
          },
          "execution_count": 28
        }
      ]
    },
    {
      "cell_type": "markdown",
      "metadata": {
        "id": "_tvEjpiomPG6"
      },
      "source": [
        "##Simple GAN with Celeba"
      ]
    },
    {
      "cell_type": "code",
      "metadata": {
        "id": "CMwSr6qwo5n7",
        "colab": {
          "base_uri": "https://localhost:8080/"
        },
        "outputId": "8642d3c5-5942-499b-a29a-a40f87aff7f5"
      },
      "source": [
        "from google.colab import drive\n",
        "drive.mount('/content/gdrive', force_remount=True)\n",
        "root_dir = \"/content/gdrive/My Drive/\""
      ],
      "execution_count": 1,
      "outputs": [
        {
          "output_type": "stream",
          "text": [
            "Mounted at /content/gdrive\n"
          ],
          "name": "stdout"
        }
      ]
    },
    {
      "cell_type": "code",
      "metadata": {
        "id": "aMKvpRyF4uSv"
      },
      "source": [
        "import zipfile"
      ],
      "execution_count": null,
      "outputs": []
    },
    {
      "cell_type": "code",
      "metadata": {
        "id": "WysNooiO4vZD"
      },
      "source": [
        "with zipfile.ZipFile('/content/gdrive/MyDrive/Celeba/img_align_celeba.zip', 'r') as zip_ref:\n",
        "  zip_ref.extractall('/content/gdrive/MyDrive/Celeba/cel')"
      ],
      "execution_count": null,
      "outputs": []
    },
    {
      "cell_type": "code",
      "metadata": {
        "id": "AiyEudYC0dXn"
      },
      "source": [
        "from keras import Input\n",
        "from keras.layers import Dense, Reshape, LeakyReLU, Conv2D, Conv2DTranspose, Flatten, Dropout\n",
        "from keras.models import Model\n",
        "from keras.optimizers import RMSprop\n",
        "from tqdm import tqdm\n",
        "import numpy as np\n",
        "import pandas as pd\n",
        "import os\n",
        "from PIL import Image\n",
        "from matplotlib import pyplot as plt\n",
        "import shutil"
      ],
      "execution_count": 2,
      "outputs": []
    },
    {
      "cell_type": "code",
      "metadata": {
        "colab": {
          "base_uri": "https://localhost:8080/",
          "height": 383
        },
        "id": "1E4mkAOSqWYF",
        "outputId": "cad4b056-0941-4a3d-d8e4-6079794d927c"
      },
      "source": [
        "about = pd.read_csv('/content/gdrive/MyDrive/Celeba/list_attr_celeba.csv')\n",
        "about[:10]"
      ],
      "execution_count": null,
      "outputs": [
        {
          "output_type": "execute_result",
          "data": {
            "text/html": [
              "<div>\n",
              "<style scoped>\n",
              "    .dataframe tbody tr th:only-of-type {\n",
              "        vertical-align: middle;\n",
              "    }\n",
              "\n",
              "    .dataframe tbody tr th {\n",
              "        vertical-align: top;\n",
              "    }\n",
              "\n",
              "    .dataframe thead th {\n",
              "        text-align: right;\n",
              "    }\n",
              "</style>\n",
              "<table border=\"1\" class=\"dataframe\">\n",
              "  <thead>\n",
              "    <tr style=\"text-align: right;\">\n",
              "      <th></th>\n",
              "      <th>image_id</th>\n",
              "      <th>5_o_Clock_Shadow</th>\n",
              "      <th>Arched_Eyebrows</th>\n",
              "      <th>Attractive</th>\n",
              "      <th>Bags_Under_Eyes</th>\n",
              "      <th>Bald</th>\n",
              "      <th>Bangs</th>\n",
              "      <th>Big_Lips</th>\n",
              "      <th>Big_Nose</th>\n",
              "      <th>Black_Hair</th>\n",
              "      <th>Blond_Hair</th>\n",
              "      <th>Blurry</th>\n",
              "      <th>Brown_Hair</th>\n",
              "      <th>Bushy_Eyebrows</th>\n",
              "      <th>Chubby</th>\n",
              "      <th>Double_Chin</th>\n",
              "      <th>Eyeglasses</th>\n",
              "      <th>Goatee</th>\n",
              "      <th>Gray_Hair</th>\n",
              "      <th>Heavy_Makeup</th>\n",
              "      <th>High_Cheekbones</th>\n",
              "      <th>Male</th>\n",
              "      <th>Mouth_Slightly_Open</th>\n",
              "      <th>Mustache</th>\n",
              "      <th>Narrow_Eyes</th>\n",
              "      <th>No_Beard</th>\n",
              "      <th>Oval_Face</th>\n",
              "      <th>Pale_Skin</th>\n",
              "      <th>Pointy_Nose</th>\n",
              "      <th>Receding_Hairline</th>\n",
              "      <th>Rosy_Cheeks</th>\n",
              "      <th>Sideburns</th>\n",
              "      <th>Smiling</th>\n",
              "      <th>Straight_Hair</th>\n",
              "      <th>Wavy_Hair</th>\n",
              "      <th>Wearing_Earrings</th>\n",
              "      <th>Wearing_Hat</th>\n",
              "      <th>Wearing_Lipstick</th>\n",
              "      <th>Wearing_Necklace</th>\n",
              "      <th>Wearing_Necktie</th>\n",
              "      <th>Young</th>\n",
              "    </tr>\n",
              "  </thead>\n",
              "  <tbody>\n",
              "    <tr>\n",
              "      <th>0</th>\n",
              "      <td>000001.jpg</td>\n",
              "      <td>-1</td>\n",
              "      <td>1</td>\n",
              "      <td>1</td>\n",
              "      <td>-1</td>\n",
              "      <td>-1</td>\n",
              "      <td>-1</td>\n",
              "      <td>-1</td>\n",
              "      <td>-1</td>\n",
              "      <td>-1</td>\n",
              "      <td>-1</td>\n",
              "      <td>-1</td>\n",
              "      <td>1</td>\n",
              "      <td>-1</td>\n",
              "      <td>-1</td>\n",
              "      <td>-1</td>\n",
              "      <td>-1</td>\n",
              "      <td>-1</td>\n",
              "      <td>-1</td>\n",
              "      <td>1</td>\n",
              "      <td>1</td>\n",
              "      <td>-1</td>\n",
              "      <td>1</td>\n",
              "      <td>-1</td>\n",
              "      <td>-1</td>\n",
              "      <td>1</td>\n",
              "      <td>-1</td>\n",
              "      <td>-1</td>\n",
              "      <td>1</td>\n",
              "      <td>-1</td>\n",
              "      <td>-1</td>\n",
              "      <td>-1</td>\n",
              "      <td>1</td>\n",
              "      <td>1</td>\n",
              "      <td>-1</td>\n",
              "      <td>1</td>\n",
              "      <td>-1</td>\n",
              "      <td>1</td>\n",
              "      <td>-1</td>\n",
              "      <td>-1</td>\n",
              "      <td>1</td>\n",
              "    </tr>\n",
              "    <tr>\n",
              "      <th>1</th>\n",
              "      <td>000002.jpg</td>\n",
              "      <td>-1</td>\n",
              "      <td>-1</td>\n",
              "      <td>-1</td>\n",
              "      <td>1</td>\n",
              "      <td>-1</td>\n",
              "      <td>-1</td>\n",
              "      <td>-1</td>\n",
              "      <td>1</td>\n",
              "      <td>-1</td>\n",
              "      <td>-1</td>\n",
              "      <td>-1</td>\n",
              "      <td>1</td>\n",
              "      <td>-1</td>\n",
              "      <td>-1</td>\n",
              "      <td>-1</td>\n",
              "      <td>-1</td>\n",
              "      <td>-1</td>\n",
              "      <td>-1</td>\n",
              "      <td>-1</td>\n",
              "      <td>1</td>\n",
              "      <td>-1</td>\n",
              "      <td>1</td>\n",
              "      <td>-1</td>\n",
              "      <td>-1</td>\n",
              "      <td>1</td>\n",
              "      <td>-1</td>\n",
              "      <td>-1</td>\n",
              "      <td>-1</td>\n",
              "      <td>-1</td>\n",
              "      <td>-1</td>\n",
              "      <td>-1</td>\n",
              "      <td>1</td>\n",
              "      <td>-1</td>\n",
              "      <td>-1</td>\n",
              "      <td>-1</td>\n",
              "      <td>-1</td>\n",
              "      <td>-1</td>\n",
              "      <td>-1</td>\n",
              "      <td>-1</td>\n",
              "      <td>1</td>\n",
              "    </tr>\n",
              "    <tr>\n",
              "      <th>2</th>\n",
              "      <td>000003.jpg</td>\n",
              "      <td>-1</td>\n",
              "      <td>-1</td>\n",
              "      <td>-1</td>\n",
              "      <td>-1</td>\n",
              "      <td>-1</td>\n",
              "      <td>-1</td>\n",
              "      <td>1</td>\n",
              "      <td>-1</td>\n",
              "      <td>-1</td>\n",
              "      <td>-1</td>\n",
              "      <td>1</td>\n",
              "      <td>-1</td>\n",
              "      <td>-1</td>\n",
              "      <td>-1</td>\n",
              "      <td>-1</td>\n",
              "      <td>-1</td>\n",
              "      <td>-1</td>\n",
              "      <td>-1</td>\n",
              "      <td>-1</td>\n",
              "      <td>-1</td>\n",
              "      <td>1</td>\n",
              "      <td>-1</td>\n",
              "      <td>-1</td>\n",
              "      <td>1</td>\n",
              "      <td>1</td>\n",
              "      <td>-1</td>\n",
              "      <td>-1</td>\n",
              "      <td>1</td>\n",
              "      <td>-1</td>\n",
              "      <td>-1</td>\n",
              "      <td>-1</td>\n",
              "      <td>-1</td>\n",
              "      <td>-1</td>\n",
              "      <td>1</td>\n",
              "      <td>-1</td>\n",
              "      <td>-1</td>\n",
              "      <td>-1</td>\n",
              "      <td>-1</td>\n",
              "      <td>-1</td>\n",
              "      <td>1</td>\n",
              "    </tr>\n",
              "    <tr>\n",
              "      <th>3</th>\n",
              "      <td>000004.jpg</td>\n",
              "      <td>-1</td>\n",
              "      <td>-1</td>\n",
              "      <td>1</td>\n",
              "      <td>-1</td>\n",
              "      <td>-1</td>\n",
              "      <td>-1</td>\n",
              "      <td>-1</td>\n",
              "      <td>-1</td>\n",
              "      <td>-1</td>\n",
              "      <td>-1</td>\n",
              "      <td>-1</td>\n",
              "      <td>-1</td>\n",
              "      <td>-1</td>\n",
              "      <td>-1</td>\n",
              "      <td>-1</td>\n",
              "      <td>-1</td>\n",
              "      <td>-1</td>\n",
              "      <td>-1</td>\n",
              "      <td>-1</td>\n",
              "      <td>-1</td>\n",
              "      <td>-1</td>\n",
              "      <td>-1</td>\n",
              "      <td>-1</td>\n",
              "      <td>-1</td>\n",
              "      <td>1</td>\n",
              "      <td>-1</td>\n",
              "      <td>-1</td>\n",
              "      <td>1</td>\n",
              "      <td>-1</td>\n",
              "      <td>-1</td>\n",
              "      <td>-1</td>\n",
              "      <td>-1</td>\n",
              "      <td>1</td>\n",
              "      <td>-1</td>\n",
              "      <td>1</td>\n",
              "      <td>-1</td>\n",
              "      <td>1</td>\n",
              "      <td>1</td>\n",
              "      <td>-1</td>\n",
              "      <td>1</td>\n",
              "    </tr>\n",
              "    <tr>\n",
              "      <th>4</th>\n",
              "      <td>000005.jpg</td>\n",
              "      <td>-1</td>\n",
              "      <td>1</td>\n",
              "      <td>1</td>\n",
              "      <td>-1</td>\n",
              "      <td>-1</td>\n",
              "      <td>-1</td>\n",
              "      <td>1</td>\n",
              "      <td>-1</td>\n",
              "      <td>-1</td>\n",
              "      <td>-1</td>\n",
              "      <td>-1</td>\n",
              "      <td>-1</td>\n",
              "      <td>-1</td>\n",
              "      <td>-1</td>\n",
              "      <td>-1</td>\n",
              "      <td>-1</td>\n",
              "      <td>-1</td>\n",
              "      <td>-1</td>\n",
              "      <td>1</td>\n",
              "      <td>-1</td>\n",
              "      <td>-1</td>\n",
              "      <td>-1</td>\n",
              "      <td>-1</td>\n",
              "      <td>1</td>\n",
              "      <td>1</td>\n",
              "      <td>-1</td>\n",
              "      <td>-1</td>\n",
              "      <td>1</td>\n",
              "      <td>-1</td>\n",
              "      <td>-1</td>\n",
              "      <td>-1</td>\n",
              "      <td>-1</td>\n",
              "      <td>-1</td>\n",
              "      <td>-1</td>\n",
              "      <td>-1</td>\n",
              "      <td>-1</td>\n",
              "      <td>1</td>\n",
              "      <td>-1</td>\n",
              "      <td>-1</td>\n",
              "      <td>1</td>\n",
              "    </tr>\n",
              "    <tr>\n",
              "      <th>5</th>\n",
              "      <td>000006.jpg</td>\n",
              "      <td>-1</td>\n",
              "      <td>1</td>\n",
              "      <td>1</td>\n",
              "      <td>-1</td>\n",
              "      <td>-1</td>\n",
              "      <td>-1</td>\n",
              "      <td>1</td>\n",
              "      <td>-1</td>\n",
              "      <td>-1</td>\n",
              "      <td>-1</td>\n",
              "      <td>-1</td>\n",
              "      <td>1</td>\n",
              "      <td>-1</td>\n",
              "      <td>-1</td>\n",
              "      <td>-1</td>\n",
              "      <td>-1</td>\n",
              "      <td>-1</td>\n",
              "      <td>-1</td>\n",
              "      <td>1</td>\n",
              "      <td>-1</td>\n",
              "      <td>-1</td>\n",
              "      <td>1</td>\n",
              "      <td>-1</td>\n",
              "      <td>-1</td>\n",
              "      <td>1</td>\n",
              "      <td>-1</td>\n",
              "      <td>-1</td>\n",
              "      <td>-1</td>\n",
              "      <td>-1</td>\n",
              "      <td>-1</td>\n",
              "      <td>-1</td>\n",
              "      <td>-1</td>\n",
              "      <td>-1</td>\n",
              "      <td>1</td>\n",
              "      <td>1</td>\n",
              "      <td>-1</td>\n",
              "      <td>1</td>\n",
              "      <td>-1</td>\n",
              "      <td>-1</td>\n",
              "      <td>1</td>\n",
              "    </tr>\n",
              "    <tr>\n",
              "      <th>6</th>\n",
              "      <td>000007.jpg</td>\n",
              "      <td>1</td>\n",
              "      <td>-1</td>\n",
              "      <td>1</td>\n",
              "      <td>1</td>\n",
              "      <td>-1</td>\n",
              "      <td>-1</td>\n",
              "      <td>1</td>\n",
              "      <td>1</td>\n",
              "      <td>1</td>\n",
              "      <td>-1</td>\n",
              "      <td>-1</td>\n",
              "      <td>-1</td>\n",
              "      <td>1</td>\n",
              "      <td>-1</td>\n",
              "      <td>-1</td>\n",
              "      <td>-1</td>\n",
              "      <td>-1</td>\n",
              "      <td>-1</td>\n",
              "      <td>-1</td>\n",
              "      <td>-1</td>\n",
              "      <td>1</td>\n",
              "      <td>-1</td>\n",
              "      <td>-1</td>\n",
              "      <td>-1</td>\n",
              "      <td>1</td>\n",
              "      <td>-1</td>\n",
              "      <td>-1</td>\n",
              "      <td>1</td>\n",
              "      <td>-1</td>\n",
              "      <td>-1</td>\n",
              "      <td>-1</td>\n",
              "      <td>-1</td>\n",
              "      <td>1</td>\n",
              "      <td>-1</td>\n",
              "      <td>-1</td>\n",
              "      <td>-1</td>\n",
              "      <td>-1</td>\n",
              "      <td>-1</td>\n",
              "      <td>-1</td>\n",
              "      <td>1</td>\n",
              "    </tr>\n",
              "    <tr>\n",
              "      <th>7</th>\n",
              "      <td>000008.jpg</td>\n",
              "      <td>1</td>\n",
              "      <td>1</td>\n",
              "      <td>-1</td>\n",
              "      <td>1</td>\n",
              "      <td>-1</td>\n",
              "      <td>-1</td>\n",
              "      <td>1</td>\n",
              "      <td>-1</td>\n",
              "      <td>1</td>\n",
              "      <td>-1</td>\n",
              "      <td>-1</td>\n",
              "      <td>-1</td>\n",
              "      <td>-1</td>\n",
              "      <td>-1</td>\n",
              "      <td>-1</td>\n",
              "      <td>-1</td>\n",
              "      <td>-1</td>\n",
              "      <td>-1</td>\n",
              "      <td>-1</td>\n",
              "      <td>-1</td>\n",
              "      <td>1</td>\n",
              "      <td>-1</td>\n",
              "      <td>-1</td>\n",
              "      <td>-1</td>\n",
              "      <td>1</td>\n",
              "      <td>-1</td>\n",
              "      <td>-1</td>\n",
              "      <td>1</td>\n",
              "      <td>-1</td>\n",
              "      <td>-1</td>\n",
              "      <td>-1</td>\n",
              "      <td>-1</td>\n",
              "      <td>-1</td>\n",
              "      <td>-1</td>\n",
              "      <td>-1</td>\n",
              "      <td>-1</td>\n",
              "      <td>-1</td>\n",
              "      <td>-1</td>\n",
              "      <td>-1</td>\n",
              "      <td>1</td>\n",
              "    </tr>\n",
              "    <tr>\n",
              "      <th>8</th>\n",
              "      <td>000009.jpg</td>\n",
              "      <td>-1</td>\n",
              "      <td>1</td>\n",
              "      <td>1</td>\n",
              "      <td>-1</td>\n",
              "      <td>-1</td>\n",
              "      <td>1</td>\n",
              "      <td>1</td>\n",
              "      <td>-1</td>\n",
              "      <td>-1</td>\n",
              "      <td>-1</td>\n",
              "      <td>-1</td>\n",
              "      <td>-1</td>\n",
              "      <td>-1</td>\n",
              "      <td>-1</td>\n",
              "      <td>-1</td>\n",
              "      <td>-1</td>\n",
              "      <td>-1</td>\n",
              "      <td>-1</td>\n",
              "      <td>1</td>\n",
              "      <td>1</td>\n",
              "      <td>-1</td>\n",
              "      <td>1</td>\n",
              "      <td>-1</td>\n",
              "      <td>-1</td>\n",
              "      <td>1</td>\n",
              "      <td>1</td>\n",
              "      <td>-1</td>\n",
              "      <td>1</td>\n",
              "      <td>-1</td>\n",
              "      <td>1</td>\n",
              "      <td>-1</td>\n",
              "      <td>1</td>\n",
              "      <td>-1</td>\n",
              "      <td>-1</td>\n",
              "      <td>1</td>\n",
              "      <td>-1</td>\n",
              "      <td>1</td>\n",
              "      <td>-1</td>\n",
              "      <td>-1</td>\n",
              "      <td>1</td>\n",
              "    </tr>\n",
              "    <tr>\n",
              "      <th>9</th>\n",
              "      <td>000010.jpg</td>\n",
              "      <td>-1</td>\n",
              "      <td>-1</td>\n",
              "      <td>1</td>\n",
              "      <td>-1</td>\n",
              "      <td>-1</td>\n",
              "      <td>-1</td>\n",
              "      <td>-1</td>\n",
              "      <td>-1</td>\n",
              "      <td>-1</td>\n",
              "      <td>-1</td>\n",
              "      <td>-1</td>\n",
              "      <td>-1</td>\n",
              "      <td>-1</td>\n",
              "      <td>-1</td>\n",
              "      <td>-1</td>\n",
              "      <td>-1</td>\n",
              "      <td>-1</td>\n",
              "      <td>-1</td>\n",
              "      <td>1</td>\n",
              "      <td>1</td>\n",
              "      <td>-1</td>\n",
              "      <td>-1</td>\n",
              "      <td>-1</td>\n",
              "      <td>-1</td>\n",
              "      <td>1</td>\n",
              "      <td>-1</td>\n",
              "      <td>-1</td>\n",
              "      <td>-1</td>\n",
              "      <td>-1</td>\n",
              "      <td>-1</td>\n",
              "      <td>-1</td>\n",
              "      <td>-1</td>\n",
              "      <td>-1</td>\n",
              "      <td>1</td>\n",
              "      <td>-1</td>\n",
              "      <td>-1</td>\n",
              "      <td>1</td>\n",
              "      <td>-1</td>\n",
              "      <td>-1</td>\n",
              "      <td>1</td>\n",
              "    </tr>\n",
              "  </tbody>\n",
              "</table>\n",
              "</div>"
            ],
            "text/plain": [
              "     image_id  5_o_Clock_Shadow  ...  Wearing_Necktie  Young\n",
              "0  000001.jpg                -1  ...               -1      1\n",
              "1  000002.jpg                -1  ...               -1      1\n",
              "2  000003.jpg                -1  ...               -1      1\n",
              "3  000004.jpg                -1  ...               -1      1\n",
              "4  000005.jpg                -1  ...               -1      1\n",
              "5  000006.jpg                -1  ...               -1      1\n",
              "6  000007.jpg                 1  ...               -1      1\n",
              "7  000008.jpg                 1  ...               -1      1\n",
              "8  000009.jpg                -1  ...               -1      1\n",
              "9  000010.jpg                -1  ...               -1      1\n",
              "\n",
              "[10 rows x 41 columns]"
            ]
          },
          "metadata": {
            "tags": []
          },
          "execution_count": 11
        }
      ]
    },
    {
      "cell_type": "code",
      "metadata": {
        "colab": {
          "base_uri": "https://localhost:8080/"
        },
        "id": "ZeyQNDgyqndW",
        "outputId": "e28942c4-e2ac-4133-c4ff-e81e170f866d"
      },
      "source": [
        "about.columns, about.shape"
      ],
      "execution_count": null,
      "outputs": [
        {
          "output_type": "execute_result",
          "data": {
            "text/plain": [
              "(Index(['image_id', '5_o_Clock_Shadow', 'Arched_Eyebrows', 'Attractive',\n",
              "        'Bags_Under_Eyes', 'Bald', 'Bangs', 'Big_Lips', 'Big_Nose',\n",
              "        'Black_Hair', 'Blond_Hair', 'Blurry', 'Brown_Hair', 'Bushy_Eyebrows',\n",
              "        'Chubby', 'Double_Chin', 'Eyeglasses', 'Goatee', 'Gray_Hair',\n",
              "        'Heavy_Makeup', 'High_Cheekbones', 'Male', 'Mouth_Slightly_Open',\n",
              "        'Mustache', 'Narrow_Eyes', 'No_Beard', 'Oval_Face', 'Pale_Skin',\n",
              "        'Pointy_Nose', 'Receding_Hairline', 'Rosy_Cheeks', 'Sideburns',\n",
              "        'Smiling', 'Straight_Hair', 'Wavy_Hair', 'Wearing_Earrings',\n",
              "        'Wearing_Hat', 'Wearing_Lipstick', 'Wearing_Necklace',\n",
              "        'Wearing_Necktie', 'Young'],\n",
              "       dtype='object'), (202599, 41))"
            ]
          },
          "metadata": {
            "tags": []
          },
          "execution_count": 5
        }
      ]
    },
    {
      "cell_type": "code",
      "metadata": {
        "colab": {
          "base_uri": "https://localhost:8080/"
        },
        "id": "acLwOwrVrOve",
        "outputId": "b7fa6c9b-f0f9-4624-aa85-8badd99830d2"
      },
      "source": [
        "fblackh = about[(about['Male']==-1)&(about['Black_Hair']==1)]\n",
        "fblackh.shape"
      ],
      "execution_count": null,
      "outputs": [
        {
          "output_type": "execute_result",
          "data": {
            "text/plain": [
              "(23316, 41)"
            ]
          },
          "metadata": {
            "tags": []
          },
          "execution_count": 12
        }
      ]
    },
    {
      "cell_type": "code",
      "metadata": {
        "colab": {
          "base_uri": "https://localhost:8080/",
          "height": 163
        },
        "id": "1r6prF1TtxU0",
        "outputId": "c0be0fa5-3ae5-475e-80b7-9f60cb57bd44"
      },
      "source": [
        "fblackh[:3]"
      ],
      "execution_count": null,
      "outputs": [
        {
          "output_type": "execute_result",
          "data": {
            "text/html": [
              "<div>\n",
              "<style scoped>\n",
              "    .dataframe tbody tr th:only-of-type {\n",
              "        vertical-align: middle;\n",
              "    }\n",
              "\n",
              "    .dataframe tbody tr th {\n",
              "        vertical-align: top;\n",
              "    }\n",
              "\n",
              "    .dataframe thead th {\n",
              "        text-align: right;\n",
              "    }\n",
              "</style>\n",
              "<table border=\"1\" class=\"dataframe\">\n",
              "  <thead>\n",
              "    <tr style=\"text-align: right;\">\n",
              "      <th></th>\n",
              "      <th>image_id</th>\n",
              "      <th>5_o_Clock_Shadow</th>\n",
              "      <th>Arched_Eyebrows</th>\n",
              "      <th>Attractive</th>\n",
              "      <th>Bags_Under_Eyes</th>\n",
              "      <th>Bald</th>\n",
              "      <th>Bangs</th>\n",
              "      <th>Big_Lips</th>\n",
              "      <th>Big_Nose</th>\n",
              "      <th>Black_Hair</th>\n",
              "      <th>Blond_Hair</th>\n",
              "      <th>Blurry</th>\n",
              "      <th>Brown_Hair</th>\n",
              "      <th>Bushy_Eyebrows</th>\n",
              "      <th>Chubby</th>\n",
              "      <th>Double_Chin</th>\n",
              "      <th>Eyeglasses</th>\n",
              "      <th>Goatee</th>\n",
              "      <th>Gray_Hair</th>\n",
              "      <th>Heavy_Makeup</th>\n",
              "      <th>High_Cheekbones</th>\n",
              "      <th>Male</th>\n",
              "      <th>Mouth_Slightly_Open</th>\n",
              "      <th>Mustache</th>\n",
              "      <th>Narrow_Eyes</th>\n",
              "      <th>No_Beard</th>\n",
              "      <th>Oval_Face</th>\n",
              "      <th>Pale_Skin</th>\n",
              "      <th>Pointy_Nose</th>\n",
              "      <th>Receding_Hairline</th>\n",
              "      <th>Rosy_Cheeks</th>\n",
              "      <th>Sideburns</th>\n",
              "      <th>Smiling</th>\n",
              "      <th>Straight_Hair</th>\n",
              "      <th>Wavy_Hair</th>\n",
              "      <th>Wearing_Earrings</th>\n",
              "      <th>Wearing_Hat</th>\n",
              "      <th>Wearing_Lipstick</th>\n",
              "      <th>Wearing_Necklace</th>\n",
              "      <th>Wearing_Necktie</th>\n",
              "      <th>Young</th>\n",
              "    </tr>\n",
              "  </thead>\n",
              "  <tbody>\n",
              "    <tr>\n",
              "      <th>10</th>\n",
              "      <td>000011.jpg</td>\n",
              "      <td>-1</td>\n",
              "      <td>-1</td>\n",
              "      <td>1</td>\n",
              "      <td>-1</td>\n",
              "      <td>-1</td>\n",
              "      <td>-1</td>\n",
              "      <td>-1</td>\n",
              "      <td>-1</td>\n",
              "      <td>1</td>\n",
              "      <td>-1</td>\n",
              "      <td>-1</td>\n",
              "      <td>-1</td>\n",
              "      <td>-1</td>\n",
              "      <td>-1</td>\n",
              "      <td>-1</td>\n",
              "      <td>-1</td>\n",
              "      <td>-1</td>\n",
              "      <td>-1</td>\n",
              "      <td>-1</td>\n",
              "      <td>-1</td>\n",
              "      <td>-1</td>\n",
              "      <td>1</td>\n",
              "      <td>-1</td>\n",
              "      <td>-1</td>\n",
              "      <td>1</td>\n",
              "      <td>-1</td>\n",
              "      <td>-1</td>\n",
              "      <td>-1</td>\n",
              "      <td>-1</td>\n",
              "      <td>-1</td>\n",
              "      <td>-1</td>\n",
              "      <td>1</td>\n",
              "      <td>-1</td>\n",
              "      <td>-1</td>\n",
              "      <td>-1</td>\n",
              "      <td>-1</td>\n",
              "      <td>-1</td>\n",
              "      <td>-1</td>\n",
              "      <td>-1</td>\n",
              "      <td>1</td>\n",
              "    </tr>\n",
              "    <tr>\n",
              "      <th>13</th>\n",
              "      <td>000014.jpg</td>\n",
              "      <td>-1</td>\n",
              "      <td>1</td>\n",
              "      <td>-1</td>\n",
              "      <td>-1</td>\n",
              "      <td>-1</td>\n",
              "      <td>-1</td>\n",
              "      <td>-1</td>\n",
              "      <td>1</td>\n",
              "      <td>1</td>\n",
              "      <td>-1</td>\n",
              "      <td>-1</td>\n",
              "      <td>-1</td>\n",
              "      <td>1</td>\n",
              "      <td>-1</td>\n",
              "      <td>-1</td>\n",
              "      <td>-1</td>\n",
              "      <td>-1</td>\n",
              "      <td>-1</td>\n",
              "      <td>1</td>\n",
              "      <td>1</td>\n",
              "      <td>-1</td>\n",
              "      <td>-1</td>\n",
              "      <td>-1</td>\n",
              "      <td>-1</td>\n",
              "      <td>1</td>\n",
              "      <td>-1</td>\n",
              "      <td>-1</td>\n",
              "      <td>-1</td>\n",
              "      <td>-1</td>\n",
              "      <td>-1</td>\n",
              "      <td>-1</td>\n",
              "      <td>1</td>\n",
              "      <td>-1</td>\n",
              "      <td>-1</td>\n",
              "      <td>-1</td>\n",
              "      <td>-1</td>\n",
              "      <td>1</td>\n",
              "      <td>1</td>\n",
              "      <td>-1</td>\n",
              "      <td>1</td>\n",
              "    </tr>\n",
              "    <tr>\n",
              "      <th>16</th>\n",
              "      <td>000017.jpg</td>\n",
              "      <td>-1</td>\n",
              "      <td>-1</td>\n",
              "      <td>-1</td>\n",
              "      <td>-1</td>\n",
              "      <td>-1</td>\n",
              "      <td>-1</td>\n",
              "      <td>-1</td>\n",
              "      <td>-1</td>\n",
              "      <td>1</td>\n",
              "      <td>-1</td>\n",
              "      <td>-1</td>\n",
              "      <td>-1</td>\n",
              "      <td>-1</td>\n",
              "      <td>-1</td>\n",
              "      <td>-1</td>\n",
              "      <td>-1</td>\n",
              "      <td>-1</td>\n",
              "      <td>-1</td>\n",
              "      <td>-1</td>\n",
              "      <td>1</td>\n",
              "      <td>-1</td>\n",
              "      <td>1</td>\n",
              "      <td>-1</td>\n",
              "      <td>-1</td>\n",
              "      <td>1</td>\n",
              "      <td>1</td>\n",
              "      <td>-1</td>\n",
              "      <td>-1</td>\n",
              "      <td>-1</td>\n",
              "      <td>-1</td>\n",
              "      <td>-1</td>\n",
              "      <td>1</td>\n",
              "      <td>1</td>\n",
              "      <td>-1</td>\n",
              "      <td>-1</td>\n",
              "      <td>-1</td>\n",
              "      <td>-1</td>\n",
              "      <td>-1</td>\n",
              "      <td>-1</td>\n",
              "      <td>1</td>\n",
              "    </tr>\n",
              "  </tbody>\n",
              "</table>\n",
              "</div>"
            ],
            "text/plain": [
              "      image_id  5_o_Clock_Shadow  ...  Wearing_Necktie  Young\n",
              "10  000011.jpg                -1  ...               -1      1\n",
              "13  000014.jpg                -1  ...               -1      1\n",
              "16  000017.jpg                -1  ...               -1      1\n",
              "\n",
              "[3 rows x 41 columns]"
            ]
          },
          "metadata": {
            "tags": []
          },
          "execution_count": 12
        }
      ]
    },
    {
      "cell_type": "code",
      "metadata": {
        "id": "n3i1RAt3iZnD"
      },
      "source": [
        "im_names = fblackh['image_id'].to_list()\n",
        "#im_names"
      ],
      "execution_count": null,
      "outputs": []
    },
    {
      "cell_type": "code",
      "metadata": {
        "id": "gTrzuxqPT2_h"
      },
      "source": [
        "c= im_names[1620:]"
      ],
      "execution_count": null,
      "outputs": []
    },
    {
      "cell_type": "code",
      "metadata": {
        "colab": {
          "base_uri": "https://localhost:8080/"
        },
        "id": "wt7HVdTEVcH9",
        "outputId": "c9f3f429-c17b-4fd6-fe13-42c06f678a60"
      },
      "source": [
        "os.listdir('/content/gdrive/MyDrive/Celeba/cel/img_align_celeba')[:10]"
      ],
      "execution_count": null,
      "outputs": [
        {
          "output_type": "execute_result",
          "data": {
            "text/plain": [
              "['014035.jpg',\n",
              " '014036.jpg',\n",
              " '014037.jpg',\n",
              " '014038.jpg',\n",
              " '014039.jpg',\n",
              " '014040.jpg',\n",
              " '014041.jpg',\n",
              " '014042.jpg',\n",
              " '014043.jpg',\n",
              " '014044.jpg']"
            ]
          },
          "metadata": {
            "tags": []
          },
          "execution_count": 27
        }
      ]
    },
    {
      "cell_type": "code",
      "metadata": {
        "colab": {
          "base_uri": "https://localhost:8080/"
        },
        "id": "-Yh3Z6lz17ql",
        "outputId": "c8b4438a-90a5-4894-bcd5-136a3ab6c3a4"
      },
      "source": [
        "os.listdir('/content/gdrive/MyDrive/Celeba/cel/img_align_celeba')[:10]\n",
        "#len(os.listdir('/content/gdrive/MyDrive/Celeba/cel/img_align_celeba'))\n",
        "#os.path.isfile('/content/gdrive/MyDrive/Celeba/cel/img_align_celeba/000011.jpg')"
      ],
      "execution_count": null,
      "outputs": [
        {
          "output_type": "execute_result",
          "data": {
            "text/plain": [
              "202599"
            ]
          },
          "metadata": {
            "tags": []
          },
          "execution_count": 23
        }
      ]
    },
    {
      "cell_type": "code",
      "metadata": {
        "id": "df6ttRdduPg1"
      },
      "source": [
        "#l = ['080129.jpg', '175809.jpg']\n",
        "#l = ['000011.jpg', '000017.jpg']\n",
        "for i in c:#im_names:\n",
        "  shutil.move('/content/gdrive/MyDrive/Celeba/cel/img_align_celeba/'+i, '/content/gdrive/MyDrive/Celeba/femblackh')"
      ],
      "execution_count": null,
      "outputs": []
    },
    {
      "cell_type": "code",
      "metadata": {
        "colab": {
          "base_uri": "https://localhost:8080/"
        },
        "id": "_bseMHaV5BQN",
        "outputId": "ab330cdc-281a-428f-f51f-b464e94273ed"
      },
      "source": [
        "len(os.listdir('/content/gdrive/MyDrive/Celeba/cel/img_align_celeba')), len(os.listdir('/content/gdrive/MyDrive/Celeba/femblackh'))"
      ],
      "execution_count": null,
      "outputs": [
        {
          "output_type": "execute_result",
          "data": {
            "text/plain": [
              "(188565, 0)"
            ]
          },
          "metadata": {
            "tags": []
          },
          "execution_count": 14
        }
      ]
    },
    {
      "cell_type": "code",
      "metadata": {
        "colab": {
          "base_uri": "https://localhost:8080/"
        },
        "id": "YdkK4MKR6K9s",
        "outputId": "ef72d924-e2a4-4256-c93a-863f5d8b3cae"
      },
      "source": [
        "#len(os.listdir('/content/gdrive/MyDrive/Celeba/cel/img_align_celeba')), len(os.listdir('/content/gdrive/MyDrive/Celeba/femblackh'))\n",
        "len(os.listdir('/content/gdrive/MyDrive/Celeba/femblackh'))"
      ],
      "execution_count": null,
      "outputs": [
        {
          "output_type": "execute_result",
          "data": {
            "text/plain": [
              "21696"
            ]
          },
          "metadata": {
            "tags": []
          },
          "execution_count": 38
        }
      ]
    },
    {
      "cell_type": "code",
      "metadata": {
        "colab": {
          "base_uri": "https://localhost:8080/"
        },
        "id": "FMOx1kbd5VKL",
        "outputId": "cf2f6672-715e-4428-c471-e08df68256c0"
      },
      "source": [
        "len(os.listdir('/content/gdrive/MyDrive/Celeba/femblackh'))"
      ],
      "execution_count": null,
      "outputs": [
        {
          "output_type": "execute_result",
          "data": {
            "text/plain": [
              "6025"
            ]
          },
          "metadata": {
            "tags": []
          },
          "execution_count": 3
        }
      ]
    },
    {
      "cell_type": "code",
      "metadata": {
        "id": "aE-w1Aw_NWep"
      },
      "source": [
        "#4"
      ],
      "execution_count": null,
      "outputs": []
    },
    {
      "cell_type": "code",
      "metadata": {
        "id": "6taTKot6JgLY",
        "colab": {
          "base_uri": "https://localhost:8080/",
          "height": 143
        },
        "outputId": "1a112c70-f2b1-4624-92bf-081cc03d59b5"
      },
      "source": [
        "\n",
        "#\n",
        "\n",
        "PIC_DIR = '/content/gdrive/MyDrive/Celeba/fbh_/'#'/content/gdrive/MyDrive/Celeba/cel/img_align_celeba/'\n",
        "#r'C:\\Users\\Tanya\\Desktop\\img_align_celeba'#r'C:\\Users\\Tanya\\Desktop\\GAN_Celeba\\img_align_celeba'\n",
        "\n",
        "IMAGES_COUNT = 23316\n",
        "ORIG_WIDTH = 178\n",
        "ORIG_HEIGHT = 208\n",
        "diff = (ORIG_HEIGHT - ORIG_WIDTH) // 2\n",
        "WIDTH = 128\n",
        "HEIGHT = 128\n",
        "crop_rect = (0, diff, ORIG_WIDTH, ORIG_HEIGHT - diff)\n",
        "images = []\n",
        "for pic_file in tqdm(os.listdir(PIC_DIR)[:IMAGES_COUNT]):\n",
        "    pic = Image.open(PIC_DIR + pic_file).crop(crop_rect)\n",
        "    pic.thumbnail((WIDTH, HEIGHT), Image.ANTIALIAS)\n",
        "    images.append(np.uint8(pic)) #Normalize the images\n",
        "images = np.array(images) / 255\n",
        "images.shape \n",
        "#print first 5 images\n",
        "plt.figure(1, figsize=(20, 20))\n",
        "for i in range(5):\n",
        "    plt.subplot(1, 5, i+1)\n",
        "    plt.imshow(images[i])\n",
        "    plt.axis('off')\n",
        "plt.show()"
      ],
      "execution_count": 4,
      "outputs": [
        {
          "output_type": "stream",
          "text": [
            "100%|██████████| 23316/23316 [1:48:44<00:00,  3.57it/s]\n"
          ],
          "name": "stderr"
        },
        {
          "output_type": "display_data",
          "data": {
            "image/png": "[encoded data removed]",
            "text/plain": [
              "<Figure size 720x720 with 5 Axes>"
            ]
          },
          "metadata": {
            "tags": [],
            "needs_background": "light"
          }
        }
      ]
    },
    {
      "cell_type": "code",
      "metadata": {
        "id": "EtTMFxLnVP1J"
      },
      "source": [
        "#https://github.com/nageshsinghc4/Face-generation-GAN/blob/master/face_GAN.ipynb\n",
        "LATENT_DIM = 32\n",
        "CHANNELS = 3\n",
        "def create_generator():\n",
        "    gen_input = Input(shape=(LATENT_DIM, ))\n",
        "    \n",
        "    x = Dense(128 * 16 * 16)(gen_input)\n",
        "    x = LeakyReLU()(x)\n",
        "    x = Reshape((16, 16, 128))(x)\n",
        "    \n",
        "    x = Conv2D(256, 5, padding='same')(x)\n",
        "    x = LeakyReLU()(x)\n",
        "    \n",
        "    x = Conv2DTranspose(256, 4, strides=2, padding='same')(x)\n",
        "    x = LeakyReLU()(x)\n",
        "    \n",
        "    x = Conv2DTranspose(256, 4, strides=2, padding='same')(x)\n",
        "    x = LeakyReLU()(x)\n",
        "    \n",
        "    x = Conv2DTranspose(256, 4, strides=2, padding='same')(x)\n",
        "    x = LeakyReLU()(x)\n",
        "    \n",
        "    x = Conv2D(512, 5, padding='same')(x)\n",
        "    x = LeakyReLU()(x)\n",
        "    x = Conv2D(512, 5, padding='same')(x)\n",
        "    x = LeakyReLU()(x)\n",
        "    x = Conv2D(CHANNELS, 7, activation='tanh', padding='same')(x)\n",
        "    \n",
        "    generator = Model(gen_input, x)\n",
        "    return generator"
      ],
      "execution_count": 5,
      "outputs": []
    },
    {
      "cell_type": "code",
      "metadata": {
        "id": "QdjsGGS3VQvw"
      },
      "source": [
        "def create_discriminator():\n",
        "    disc_input = Input(shape=(HEIGHT, WIDTH, CHANNELS))\n",
        "    \n",
        "    x = Conv2D(256, 3)(disc_input)\n",
        "    x = LeakyReLU()(x)\n",
        "    \n",
        "    x = Conv2D(256, 4, strides=2)(x)\n",
        "    x = LeakyReLU()(x)\n",
        "    \n",
        "    x = Conv2D(256, 4, strides=2)(x)\n",
        "    x = LeakyReLU()(x)\n",
        "    \n",
        "    x = Conv2D(256, 4, strides=2)(x)\n",
        "    x = LeakyReLU()(x)\n",
        "    \n",
        "    x = Conv2D(256, 4, strides=2)(x)\n",
        "    x = LeakyReLU()(x)\n",
        "    \n",
        "    x = Flatten()(x)\n",
        "    x = Dropout(0.4)(x)\n",
        "    \n",
        "    x = Dense(1, activation='sigmoid')(x)\n",
        "    discriminator = Model(disc_input, x)\n",
        "    \n",
        "    optimizer = RMSprop(\n",
        "        learning_rate=.0001,\n",
        "        clipvalue=1.0,\n",
        "        decay=1e-8\n",
        "    )\n",
        "    \n",
        "    discriminator.compile(\n",
        "        optimizer=optimizer,\n",
        "        loss='binary_crossentropy'\n",
        "    )\n",
        "    \n",
        "    return discriminator\n"
      ],
      "execution_count": 6,
      "outputs": []
    },
    {
      "cell_type": "code",
      "metadata": {
        "id": "GDEZjcKlVV0k"
      },
      "source": [
        "generator = create_generator()\n",
        "discriminator = create_discriminator()\n",
        "discriminator.trainable = False\n"
      ],
      "execution_count": 7,
      "outputs": []
    },
    {
      "cell_type": "code",
      "metadata": {
        "id": "Kr8fIOPG0--u"
      },
      "source": [
        "gan_input = Input(shape=(LATENT_DIM, ))\n",
        "gan_output = discriminator(generator(gan_input))\n",
        "gan = Model(gan_input, gan_output)#Adversarial Model\n",
        "optimizer = RMSprop(learning_rate=.0001, clipvalue=1.0, decay=1e-8)\n",
        "gan.compile(optimizer=optimizer, loss='binary_crossentropy')"
      ],
      "execution_count": 8,
      "outputs": []
    },
    {
      "cell_type": "code",
      "metadata": {
        "id": "wmqphmFbVYeH",
        "colab": {
          "base_uri": "https://localhost:8080/"
        },
        "outputId": "d24b2ef3-9ab7-4d62-b54f-b152a3948dc4"
      },
      "source": [
        "import time\n",
        "iters = 10000\n",
        "batch_size = 16\n",
        "RES_DIR = 'res2'\n",
        "FILE_PATH = '%s/generated_%d.png'\n",
        "if not os.path.isdir(RES_DIR):\n",
        "    os.mkdir(RES_DIR)\n",
        "CONTROL_SIZE_SQRT = 6\n",
        "control_vectors = np.random.normal(size=(CONTROL_SIZE_SQRT**2, LATENT_DIM)) / 2\n",
        "start = 0\n",
        "d_losses = []\n",
        "a_losses = []\n",
        "images_saved = 0\n",
        "for step in range(iters):\n",
        "    start_time = time.time()\n",
        "    latent_vectors = np.random.normal(size=(batch_size, LATENT_DIM))\n",
        "    generated = generator.predict(latent_vectors)\n",
        "    \n",
        "    real = images[start:start + batch_size]\n",
        "    combined_images = np.concatenate([generated, real])\n",
        "    \n",
        "    labels = np.concatenate([np.ones((batch_size, 1)), np.zeros((batch_size, 1))])\n",
        "    labels += .05 * np.random.random(labels.shape)\n",
        "    \n",
        "    d_loss = discriminator.train_on_batch(combined_images, labels)\n",
        "    d_losses.append(d_loss)\n",
        "    \n",
        "    latent_vectors = np.random.normal(size=(batch_size, LATENT_DIM))\n",
        "    misleading_targets = np.zeros((batch_size, 1))\n",
        "    \n",
        "    a_loss = gan.train_on_batch(latent_vectors, misleading_targets)\n",
        "    a_losses.append(a_loss)\n",
        "    \n",
        "    start += batch_size\n",
        "    if start > images.shape[0] - batch_size:\n",
        "        start = 0\n",
        "    \n",
        "    if step % 50 == 49:\n",
        "        gan.save_weights('gan.h5')\n",
        "        \n",
        "        print('%d/%d: d_loss: %.4f,  a_loss: %.4f.  (%.1f sec)' % (step + 1, iters, d_loss, a_loss, time.time() - start_time))\n",
        "        \n",
        "        control_image = np.zeros((WIDTH * CONTROL_SIZE_SQRT, HEIGHT * CONTROL_SIZE_SQRT, CHANNELS))\n",
        "        control_generated = generator.predict(control_vectors)\n",
        "        for i in range(CONTROL_SIZE_SQRT ** 2):\n",
        "            x_off = i % CONTROL_SIZE_SQRT\n",
        "            y_off = i // CONTROL_SIZE_SQRT\n",
        "            control_image[x_off * WIDTH:(x_off + 1) * WIDTH, y_off * HEIGHT:(y_off + 1) * HEIGHT, :] = control_generated[i, :, :, :]\n",
        "        im = Image.fromarray(np.uint8(control_image * 255))\n",
        "        im.save(FILE_PATH % (RES_DIR, images_saved))\n",
        "        images_saved += 1\n",
        "\n",
        "plt.figure(1, figsize=(12, 8))\n",
        "plt.subplot(121)\n",
        "plt.plot(d_losses)\n",
        "plt.xlabel('Epochs')\n",
        "plt.ylabel('Discriminant losses')\n",
        "plt.subplot(122)\n",
        "plt.plot(a_losses)\n",
        "plt.xlabel('Epochs')\n",
        "plt.ylabel('Adversary losses')\n",
        "plt.show()"
      ],
      "execution_count": null,
      "outputs": [
        {
          "output_type": "stream",
          "text": [
            "50/10000: d_loss: 1.0443,  a_loss: 0.6608.  (2.4 sec)\n",
            "100/10000: d_loss: 0.4966,  a_loss: 1.1180.  (2.1 sec)\n",
            "150/10000: d_loss: 0.6281,  a_loss: 1.0408.  (2.1 sec)\n",
            "200/10000: d_loss: 0.5924,  a_loss: 0.9891.  (2.1 sec)\n",
            "250/10000: d_loss: 0.5785,  a_loss: 1.4697.  (2.1 sec)\n",
            "300/10000: d_loss: 0.6291,  a_loss: 2.3930.  (2.1 sec)\n",
            "350/10000: d_loss: 0.6302,  a_loss: 0.9467.  (2.1 sec)\n",
            "400/10000: d_loss: 0.6770,  a_loss: 1.0388.  (2.1 sec)\n",
            "450/10000: d_loss: 0.6861,  a_loss: 0.9491.  (2.1 sec)\n",
            "500/10000: d_loss: 0.6156,  a_loss: 0.9193.  (2.1 sec)\n",
            "550/10000: d_loss: 0.6636,  a_loss: 0.9117.  (2.1 sec)\n",
            "600/10000: d_loss: 0.5906,  a_loss: 0.8665.  (2.1 sec)\n",
            "650/10000: d_loss: 0.6663,  a_loss: 0.8608.  (2.4 sec)\n",
            "700/10000: d_loss: 0.6935,  a_loss: 0.6697.  (2.1 sec)\n",
            "750/10000: d_loss: 0.7224,  a_loss: 0.8128.  (2.4 sec)\n",
            "800/10000: d_loss: 0.6800,  a_loss: 0.8491.  (2.1 sec)\n",
            "850/10000: d_loss: 0.6500,  a_loss: 0.8358.  (2.1 sec)\n",
            "900/10000: d_loss: 0.7228,  a_loss: 0.9751.  (2.2 sec)\n",
            "950/10000: d_loss: 0.7017,  a_loss: 0.8402.  (2.1 sec)\n",
            "1000/10000: d_loss: 0.6918,  a_loss: 0.9567.  (2.2 sec)\n",
            "1050/10000: d_loss: 0.6631,  a_loss: 0.8817.  (2.1 sec)\n",
            "1100/10000: d_loss: 0.6972,  a_loss: 0.8335.  (2.1 sec)\n",
            "1150/10000: d_loss: 0.6563,  a_loss: 0.8635.  (2.1 sec)\n",
            "1200/10000: d_loss: 0.7057,  a_loss: 0.8513.  (2.1 sec)\n",
            "1250/10000: d_loss: 0.6801,  a_loss: 0.8454.  (2.1 sec)\n",
            "1300/10000: d_loss: 0.6563,  a_loss: 0.7925.  (2.1 sec)\n",
            "1350/10000: d_loss: 0.6771,  a_loss: 0.8259.  (2.1 sec)\n",
            "1400/10000: d_loss: 0.7369,  a_loss: 0.9877.  (2.1 sec)\n",
            "1450/10000: d_loss: 0.6607,  a_loss: 0.8634.  (2.1 sec)\n",
            "1500/10000: d_loss: 0.6735,  a_loss: 0.8903.  (2.1 sec)\n",
            "1550/10000: d_loss: 0.6665,  a_loss: 0.8487.  (2.1 sec)\n",
            "1600/10000: d_loss: 0.6928,  a_loss: 0.7669.  (2.1 sec)\n",
            "1650/10000: d_loss: 0.6766,  a_loss: 0.8531.  (2.2 sec)\n",
            "1700/10000: d_loss: 0.6824,  a_loss: 0.8116.  (2.1 sec)\n",
            "1750/10000: d_loss: 0.7065,  a_loss: 0.8089.  (2.1 sec)\n",
            "1800/10000: d_loss: 0.6727,  a_loss: 0.7995.  (2.1 sec)\n",
            "1850/10000: d_loss: 0.6861,  a_loss: 0.7656.  (2.1 sec)\n",
            "1900/10000: d_loss: 0.6993,  a_loss: 0.8142.  (2.1 sec)\n",
            "1950/10000: d_loss: 0.6892,  a_loss: 0.7568.  (2.4 sec)\n",
            "2000/10000: d_loss: 0.7003,  a_loss: 0.7292.  (2.1 sec)\n",
            "2050/10000: d_loss: 0.6828,  a_loss: 0.7790.  (2.1 sec)\n",
            "2100/10000: d_loss: 0.6940,  a_loss: 0.7862.  (2.1 sec)\n",
            "2150/10000: d_loss: 0.6858,  a_loss: 0.7724.  (2.1 sec)\n",
            "2200/10000: d_loss: 0.6836,  a_loss: 0.8222.  (2.4 sec)\n",
            "2250/10000: d_loss: 0.6877,  a_loss: 0.7888.  (2.4 sec)\n",
            "2300/10000: d_loss: 0.6866,  a_loss: 0.7797.  (2.1 sec)\n",
            "2350/10000: d_loss: 0.6789,  a_loss: 0.8212.  (2.3 sec)\n",
            "2400/10000: d_loss: 0.6772,  a_loss: 0.8429.  (2.4 sec)\n",
            "2450/10000: d_loss: 0.6484,  a_loss: 0.8101.  (2.1 sec)\n",
            "2500/10000: d_loss: 0.6708,  a_loss: 0.8005.  (2.1 sec)\n",
            "2550/10000: d_loss: 0.6887,  a_loss: 0.7896.  (2.1 sec)\n",
            "2600/10000: d_loss: 0.7522,  a_loss: 0.8801.  (2.1 sec)\n",
            "2650/10000: d_loss: 0.6823,  a_loss: 0.7790.  (2.1 sec)\n",
            "2700/10000: d_loss: 0.6876,  a_loss: 0.7763.  (2.1 sec)\n",
            "2750/10000: d_loss: 0.6821,  a_loss: 0.8021.  (2.1 sec)\n",
            "2800/10000: d_loss: 0.6527,  a_loss: 0.7822.  (2.1 sec)\n",
            "2850/10000: d_loss: 0.7144,  a_loss: 0.8044.  (2.1 sec)\n",
            "2900/10000: d_loss: 0.6833,  a_loss: 0.8037.  (2.1 sec)\n",
            "2950/10000: d_loss: 0.6881,  a_loss: 0.7250.  (2.1 sec)\n",
            "3000/10000: d_loss: 0.6976,  a_loss: 0.8088.  (2.1 sec)\n",
            "3050/10000: d_loss: 0.7276,  a_loss: 0.9441.  (2.1 sec)\n",
            "3100/10000: d_loss: 0.6901,  a_loss: 0.8309.  (2.1 sec)\n",
            "3150/10000: d_loss: 0.6970,  a_loss: 0.8395.  (2.1 sec)\n",
            "3200/10000: d_loss: 0.6866,  a_loss: 0.8369.  (2.1 sec)\n",
            "3250/10000: d_loss: 0.6915,  a_loss: 0.8048.  (2.1 sec)\n",
            "3300/10000: d_loss: 0.6580,  a_loss: 0.8989.  (2.1 sec)\n",
            "3350/10000: d_loss: 0.6746,  a_loss: 0.7547.  (2.1 sec)\n",
            "3400/10000: d_loss: 0.6952,  a_loss: 0.8603.  (2.1 sec)\n",
            "3450/10000: d_loss: 0.6610,  a_loss: 0.7969.  (2.1 sec)\n",
            "3500/10000: d_loss: 0.6916,  a_loss: 0.7239.  (2.7 sec)\n",
            "3550/10000: d_loss: 0.7005,  a_loss: 0.8660.  (2.1 sec)\n",
            "3600/10000: d_loss: 0.7078,  a_loss: 0.7298.  (2.2 sec)\n",
            "3650/10000: d_loss: 0.6899,  a_loss: 0.7617.  (2.1 sec)\n",
            "3700/10000: d_loss: 0.7139,  a_loss: 0.8698.  (2.2 sec)\n",
            "3750/10000: d_loss: 0.6579,  a_loss: 0.6970.  (2.1 sec)\n",
            "3800/10000: d_loss: 0.6874,  a_loss: 0.7775.  (2.1 sec)\n",
            "3850/10000: d_loss: 0.7032,  a_loss: 0.8703.  (2.4 sec)\n",
            "3900/10000: d_loss: 0.7148,  a_loss: 0.8832.  (2.4 sec)\n",
            "3950/10000: d_loss: 0.6950,  a_loss: 0.8359.  (2.1 sec)\n",
            "4000/10000: d_loss: 0.6932,  a_loss: 0.8138.  (2.1 sec)\n",
            "4050/10000: d_loss: 0.7033,  a_loss: 0.8270.  (2.1 sec)\n",
            "4100/10000: d_loss: 0.6954,  a_loss: 0.8773.  (2.1 sec)\n",
            "4150/10000: d_loss: 0.6775,  a_loss: 0.7999.  (2.4 sec)\n",
            "4200/10000: d_loss: 0.6744,  a_loss: 0.7663.  (2.1 sec)\n",
            "4250/10000: d_loss: 0.7097,  a_loss: 0.8207.  (2.1 sec)\n",
            "4300/10000: d_loss: 0.6849,  a_loss: 0.7645.  (2.1 sec)\n",
            "4350/10000: d_loss: 0.7072,  a_loss: 0.8734.  (2.1 sec)\n",
            "4400/10000: d_loss: 0.7132,  a_loss: 0.8789.  (2.1 sec)\n",
            "4450/10000: d_loss: 0.6722,  a_loss: 1.2613.  (2.1 sec)\n",
            "4500/10000: d_loss: 0.7368,  a_loss: 0.7802.  (2.4 sec)\n",
            "4550/10000: d_loss: 0.7075,  a_loss: 0.8742.  (2.4 sec)\n",
            "4600/10000: d_loss: 0.6973,  a_loss: 0.7632.  (2.2 sec)\n",
            "4650/10000: d_loss: 0.7063,  a_loss: 0.7881.  (2.1 sec)\n",
            "4700/10000: d_loss: 0.7113,  a_loss: 0.8888.  (2.4 sec)\n",
            "4750/10000: d_loss: 0.6862,  a_loss: 0.8420.  (2.4 sec)\n",
            "4800/10000: d_loss: 0.6971,  a_loss: 0.9278.  (2.1 sec)\n",
            "4850/10000: d_loss: 0.7018,  a_loss: 0.8006.  (2.1 sec)\n",
            "4900/10000: d_loss: 0.6815,  a_loss: 0.7473.  (2.1 sec)\n",
            "4950/10000: d_loss: 0.7027,  a_loss: 0.7649.  (2.1 sec)\n",
            "5000/10000: d_loss: 0.6690,  a_loss: 0.8069.  (2.1 sec)\n",
            "5050/10000: d_loss: 0.6934,  a_loss: 0.7091.  (2.4 sec)\n",
            "5100/10000: d_loss: 0.6822,  a_loss: 0.8155.  (2.1 sec)\n",
            "5150/10000: d_loss: 0.6729,  a_loss: 0.7907.  (2.1 sec)\n",
            "5200/10000: d_loss: 0.6523,  a_loss: 0.8232.  (2.1 sec)\n",
            "5250/10000: d_loss: 0.6893,  a_loss: 0.7436.  (2.1 sec)\n",
            "5300/10000: d_loss: 0.6869,  a_loss: 1.0249.  (2.4 sec)\n",
            "5350/10000: d_loss: 0.7262,  a_loss: 0.8981.  (2.1 sec)\n",
            "5400/10000: d_loss: 0.6982,  a_loss: 0.7851.  (2.1 sec)\n",
            "5450/10000: d_loss: 0.6801,  a_loss: 0.8298.  (2.1 sec)\n",
            "5500/10000: d_loss: 0.7218,  a_loss: 0.8584.  (2.1 sec)\n",
            "5550/10000: d_loss: 0.6898,  a_loss: 0.7929.  (2.1 sec)\n",
            "5600/10000: d_loss: 0.7046,  a_loss: 0.7574.  (2.1 sec)\n",
            "5650/10000: d_loss: 0.6765,  a_loss: 0.7670.  (2.4 sec)\n",
            "5700/10000: d_loss: 0.7104,  a_loss: 0.8276.  (2.1 sec)\n",
            "5750/10000: d_loss: 0.6924,  a_loss: 0.7642.  (2.2 sec)\n",
            "5800/10000: d_loss: 0.7047,  a_loss: 0.8252.  (2.1 sec)\n",
            "5850/10000: d_loss: 0.6952,  a_loss: 0.7743.  (2.1 sec)\n",
            "5900/10000: d_loss: 0.6630,  a_loss: 0.7996.  (2.1 sec)\n",
            "5950/10000: d_loss: 0.6762,  a_loss: 0.7645.  (2.2 sec)\n",
            "6000/10000: d_loss: 0.6683,  a_loss: 0.7752.  (2.1 sec)\n",
            "6050/10000: d_loss: 0.7060,  a_loss: 0.8842.  (2.4 sec)\n",
            "6100/10000: d_loss: 0.6920,  a_loss: 0.7648.  (2.1 sec)\n",
            "6150/10000: d_loss: 0.7011,  a_loss: 0.8489.  (2.1 sec)\n",
            "6200/10000: d_loss: 0.7067,  a_loss: 0.7332.  (2.1 sec)\n",
            "6250/10000: d_loss: 0.6900,  a_loss: 0.7858.  (2.1 sec)\n",
            "6300/10000: d_loss: 0.7009,  a_loss: 0.7969.  (2.1 sec)\n",
            "6350/10000: d_loss: 0.7103,  a_loss: 0.8495.  (2.2 sec)\n",
            "6400/10000: d_loss: 0.6640,  a_loss: 0.8005.  (2.1 sec)\n",
            "6450/10000: d_loss: 0.6865,  a_loss: 0.7321.  (2.1 sec)\n",
            "6500/10000: d_loss: 0.6842,  a_loss: 0.7835.  (2.1 sec)\n"
          ],
          "name": "stdout"
        }
      ]
    },
    {
      "cell_type": "code",
      "metadata": {
        "id": "RRy1NRs9o1Vj"
      },
      "source": [
        "plt.figure(1, figsize=(10, 10))\n",
        "for filename in os.listdir(RES_DIR)[:30]:\n",
        "    #images_to_gif.append(imageio.imread(RES_DIR + '/' + filename))\n",
        "    plt.subplot(6, 5, i+1)\n",
        "    plt.imshow((RES_DIR + '/' + filename)[i])\n",
        "    plt.axis('off')\n",
        "plt.show()"
      ],
      "execution_count": null,
      "outputs": []
    },
    {
      "cell_type": "code",
      "metadata": {
        "id": "_sHovPSeZFzR"
      },
      "source": [
        "images_ = []\n",
        "for filename in tqdm(os.listdir(RES_DIR)[:30]):\n",
        "    pic = Image.open(RES_DIR + filename).crop(crop_rect)\n",
        "    pic.thumbnail((WIDTH, HEIGHT), Image.ANTIALIAS)\n",
        "    images.append(np.uint8(pic)) #Normalize the images\n",
        "images_ = np.array(images) / 255\n",
        "images_.shape #print first 5 images\n",
        "plt.figure(1, figsize=(10, 10))\n",
        "for i in range(25):\n",
        "    plt.subplot(5, 5, i+1)\n",
        "    plt.imshow(images_[i])\n",
        "    plt.axis('off')\n",
        "plt.show()"
      ],
      "execution_count": null,
      "outputs": []
    },
    {
      "cell_type": "code",
      "metadata": {
        "id": "tgiXnM3xZTFy"
      },
      "source": [
        "images = []\n",
        "for pic_file in tqdm(os.listdir(PIC_DIR)[:IMAGES_COUNT]):\n",
        "    pic = Image.open(PIC_DIR + pic_file).crop(crop_rect)\n",
        "    pic.thumbnail((WIDTH, HEIGHT), Image.ANTIALIAS)\n",
        "    images.append(np.uint8(pic)) #Normalize the images\n",
        "images = np.array(images) / 255\n",
        "images.shape #print first 5 images\n",
        "plt.figure(1, figsize=(10, 10))\n",
        "for i in range(5):\n",
        "    plt.subplot(5, 5, i+1)\n",
        "    plt.imshow(images[i])\n",
        "    plt.axis('off')\n",
        "plt.show()"
      ],
      "execution_count": null,
      "outputs": []
    },
    {
      "cell_type": "code",
      "metadata": {
        "id": "JvMqrndbVcTv"
      },
      "source": [
        "import imageio\n",
        "#import shutil\n",
        "images_to_gif = []\n",
        "for filename in os.listdir(RES_DIR):\n",
        "    images_to_gif.append(imageio.imread(RES_DIR + '/' + filename))\n",
        "imageio.mimsave('trainnig_visual.gif', images_to_gif)\n",
        "shutil.rmtree(RES_DIR)"
      ],
      "execution_count": null,
      "outputs": []
    }
  ]
}