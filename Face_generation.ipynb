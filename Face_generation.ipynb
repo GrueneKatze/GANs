{
  "nbformat": 4,
  "nbformat_minor": 0,
  "metadata": {
    "colab": {
      "name": "Face_generation.ipynb",
      "provenance": [],
      "include_colab_link": true
    },
    "kernelspec": {
      "name": "python3",
      "display_name": "Python 3"
    },
    "language_info": {
      "name": "python"
    },
    "accelerator": "GPU"
  },
  "cells": [
    {
      "cell_type": "markdown",
      "metadata": {
        "id": "view-in-github",
        "colab_type": "text"
      },
      "source": [
        "<a href=\"https://colab.research.google.com/github/GrueneKatze/GANs/blob/main/Face_generation.ipynb\" target=\"_parent\"><img src=\"https://colab.research.google.com/assets/colab-badge.svg\" alt=\"Open In Colab\"/></a>"
      ]
    },
    {
      "cell_type": "markdown",
      "metadata": {
        "id": "DV8OkcaFmgrw"
      },
      "source": [
        "##TF Progressive GAN Model with Celeba"
      ]
    },
    {
      "cell_type": "code",
      "metadata": {
        "colab": {
          "base_uri": "https://localhost:8080/"
        },
        "id": "-0MpslTvmOgk",
        "outputId": "d7ea5914-6f1c-4395-9fec-864fa2493af6"
      },
      "source": [
        "!pip -q install imageio\n",
        "!pip -q install scikit-image\n",
        "!pip install git+https://github.com/tensorflow/docs"
      ],
      "execution_count": null,
      "outputs": [
        {
          "output_type": "stream",
          "text": [
            "Collecting git+https://github.com/tensorflow/docs\n",
            "  Cloning https://github.com/tensorflow/docs to /tmp/pip-req-build-278hvqz8\n",
            "  Running command git clone -q https://github.com/tensorflow/docs /tmp/pip-req-build-278hvqz8\n",
            "Requirement already satisfied: astor in /usr/local/lib/python3.7/dist-packages (from tensorflow-docs===0.0.0304a7e4a90e53751ac59cab46667d78e81736fa3-) (0.8.1)\n",
            "Requirement already satisfied: absl-py in /usr/local/lib/python3.7/dist-packages (from tensorflow-docs===0.0.0304a7e4a90e53751ac59cab46667d78e81736fa3-) (0.12.0)\n",
            "Requirement already satisfied: protobuf>=3.14 in /usr/local/lib/python3.7/dist-packages (from tensorflow-docs===0.0.0304a7e4a90e53751ac59cab46667d78e81736fa3-) (3.17.3)\n",
            "Requirement already satisfied: pyyaml in /usr/local/lib/python3.7/dist-packages (from tensorflow-docs===0.0.0304a7e4a90e53751ac59cab46667d78e81736fa3-) (3.13)\n",
            "Requirement already satisfied: six>=1.9 in /usr/local/lib/python3.7/dist-packages (from protobuf>=3.14->tensorflow-docs===0.0.0304a7e4a90e53751ac59cab46667d78e81736fa3-) (1.15.0)\n",
            "Building wheels for collected packages: tensorflow-docs\n",
            "  Building wheel for tensorflow-docs (setup.py) ... \u001b[?25l\u001b[?25hdone\n",
            "  Created wheel for tensorflow-docs: filename=tensorflow_docs-0.0.0304a7e4a90e53751ac59cab46667d78e81736fa3_-py3-none-any.whl size=154235 sha256=44f71a13ac6343d2fb1132c81315cf06e84e0df6fbf43ff5efbb5df8cbd7fdd6\n",
            "  Stored in directory: /tmp/pip-ephem-wheel-cache-6t7dozvq/wheels/cc/c4/d8/5341e93b6376c5c929c49469fce21155eb69cef1a4da4ce32c\n",
            "\u001b[33m  WARNING: Built wheel for tensorflow-docs is invalid: Metadata 1.2 mandates PEP 440 version, but '0.0.0304a7e4a90e53751ac59cab46667d78e81736fa3-' is not\u001b[0m\n",
            "Failed to build tensorflow-docs\n",
            "Installing collected packages: tensorflow-docs\n",
            "    Running setup.py install for tensorflow-docs ... \u001b[?25l\u001b[?25hdone\n",
            "\u001b[33m  DEPRECATION: tensorflow-docs was installed using the legacy 'setup.py install' method, because a wheel could not be built for it. A possible replacement is to fix the wheel build issue reported above. You can find discussion regarding this at https://github.com/pypa/pip/issues/8368.\u001b[0m\n",
            "Successfully installed tensorflow-docs-0.0.0304a7e4a90e53751ac59cab46667d78e81736fa3-\n"
          ],
          "name": "stdout"
        }
      ]
    },
    {
      "cell_type": "code",
      "metadata": {
        "id": "05et_2E1nAgj"
      },
      "source": [
        "from absl import logging\n",
        "\n",
        "import imageio\n",
        "import PIL.Image\n",
        "import matplotlib.pyplot as plt\n",
        "import numpy as np\n",
        "\n",
        "import tensorflow as tf\n",
        "tf.random.set_seed(0)\n",
        "\n",
        "import tensorflow_hub as hub\n",
        "from tensorflow_docs.vis import embed\n",
        "import time\n",
        "\n",
        "try:\n",
        "  from google.colab import files\n",
        "except ImportError:\n",
        "  pass\n",
        "\n",
        "from IPython import display\n",
        "from skimage import transform\n",
        "\n",
        "# We could retrieve this value from module.get_input_shapes() if we didn't know\n",
        "# beforehand which module we will be using.\n",
        "latent_dim = 512\n",
        "\n",
        "\n",
        "# Interpolates between two vectors that are non-zero and don't both lie on a\n",
        "# line going through origin. First normalizes v2 to have the same norm as v1. \n",
        "# Then interpolates between the two vectors on the hypersphere.\n",
        "def interpolate_hypersphere(v1, v2, num_steps):\n",
        "  v1_norm = tf.norm(v1)\n",
        "  v2_norm = tf.norm(v2)\n",
        "  v2_normalized = v2 * (v1_norm / v2_norm)\n",
        "\n",
        "  vectors = []\n",
        "  for step in range(num_steps):\n",
        "    interpolated = v1 + (v2_normalized - v1) * step / (num_steps - 1)\n",
        "    interpolated_norm = tf.norm(interpolated)\n",
        "    interpolated_normalized = interpolated * (v1_norm / interpolated_norm)\n",
        "    vectors.append(interpolated_normalized)\n",
        "  return tf.stack(vectors)\n",
        "\n",
        "# Simple way to display an image.\n",
        "def display_image(image):\n",
        "  image = tf.constant(image)\n",
        "  image = tf.image.convert_image_dtype(image, tf.uint8)\n",
        "  return PIL.Image.fromarray(image.numpy())\n",
        "\n",
        "# Given a set of images, show an animation.\n",
        "def animate(images):\n",
        "  images = np.array(images)\n",
        "  converted_images = np.clip(images * 255, 0, 255).astype(np.uint8)\n",
        "  imageio.mimsave('./animation.gif', converted_images)\n",
        "  return embed.embed_file('./animation.gif')\n",
        "\n",
        "logging.set_verbosity(logging.ERROR)"
      ],
      "execution_count": null,
      "outputs": []
    },
    {
      "cell_type": "code",
      "metadata": {
        "id": "k7if-h2in0Ax"
      },
      "source": [
        "progan = hub.load(\"https://tfhub.dev/google/progan-128/1\").signatures['default']"
      ],
      "execution_count": null,
      "outputs": []
    },
    {
      "cell_type": "code",
      "metadata": {
        "id": "7ov2u7pgn35K"
      },
      "source": [
        "def interpolate_between_vectors():\n",
        "  v1 = tf.random.normal([latent_dim])\n",
        "  v2 = tf.random.normal([latent_dim])\n",
        "\n",
        "  # Creates a tensor with 200 steps of interpolation between v1 and v2.\n",
        "  vectors = interpolate_hypersphere(v1, v2, 200)\n",
        "\n",
        "  # Uses module to generate images from the latent space.\n",
        "  interpolated_images = progan(vectors)['default']\n",
        "\n",
        "  return interpolated_images\n",
        "\n",
        "interpolated_images = interpolate_between_vectors()\n",
        "#animate(interpolated_images)"
      ],
      "execution_count": null,
      "outputs": []
    },
    {
      "cell_type": "code",
      "metadata": {
        "colab": {
          "base_uri": "https://localhost:8080/",
          "height": 145
        },
        "id": "iFxdjSv8oVnY",
        "outputId": "8241e889-d0de-4220-98df-43e2abe69f74"
      },
      "source": [
        "display_image(interpolated_images[180])"
      ],
      "execution_count": null,
      "outputs": [
        {
          "output_type": "execute_result",
          "data": {
            "image/png": "[encoded data removed]",
            "text/plain": [
              "<PIL.Image.Image image mode=RGB size=128x128 at 0x7F6ACF4C8710>"
            ]
          },
          "metadata": {
            "tags": []
          },
          "execution_count": 12
        }
      ]
    },
    {
      "cell_type": "code",
      "metadata": {
        "colab": {
          "base_uri": "https://localhost:8080/",
          "height": 145
        },
        "id": "3VJjEYoCpgFh",
        "outputId": "cfdd50bd-f27f-49e9-bbd9-750a6151e074"
      },
      "source": [
        "image_from_module_space = True  # @param { isTemplate:true, type:\"boolean\" }\n",
        "\n",
        "def get_module_space_image():\n",
        "  vector = tf.random.normal([1, latent_dim])\n",
        "  images = progan(vector)['default'][0]\n",
        "  return images\n",
        "\n",
        "def upload_image():\n",
        "  uploaded = files.upload()\n",
        "  image = imageio.imread(uploaded[list(uploaded.keys())[0]])\n",
        "  return transform.resize(image, [128, 128])\n",
        "\n",
        "if image_from_module_space:\n",
        "  target_image = get_module_space_image()\n",
        "else:\n",
        "  target_image = upload_image()\n",
        "\n",
        "display_image(target_image)"
      ],
      "execution_count": null,
      "outputs": [
        {
          "output_type": "execute_result",
          "data": {
            "image/png": "[encoded data removed]",
            "text/plain": [
              "<PIL.Image.Image image mode=RGB size=128x128 at 0x7F6E700B8850>"
            ]
          },
          "metadata": {
            "tags": []
          },
          "execution_count": 13
        }
      ]
    },
    {
      "cell_type": "code",
      "metadata": {
        "id": "VwtqhuLaqBdm"
      },
      "source": [
        "#tf.random.set_seed(42)\n",
        "initial_vector = tf.random.normal([1, latent_dim])"
      ],
      "execution_count": null,
      "outputs": []
    },
    {
      "cell_type": "code",
      "metadata": {
        "colab": {
          "base_uri": "https://localhost:8080/",
          "height": 145
        },
        "id": "6cPaig51qKTq",
        "outputId": "1fcc1825-d337-4702-9450-fa7476a2cda9"
      },
      "source": [
        "display_image(progan(initial_vector)['default'][0])"
      ],
      "execution_count": null,
      "outputs": [
        {
          "output_type": "execute_result",
          "data": {
            "image/png": "[encoded data removed]",
            "text/plain": [
              "<PIL.Image.Image image mode=RGB size=128x128 at 0x7F6ACF410A90>"
            ]
          },
          "metadata": {
            "tags": []
          },
          "execution_count": 22
        }
      ]
    },
    {
      "cell_type": "code",
      "metadata": {
        "colab": {
          "base_uri": "https://localhost:8080/"
        },
        "id": "s0wcL5W_sZ9E",
        "outputId": "9a640822-aa2e-43ff-f82b-c9684c97c80f"
      },
      "source": [
        "def find_closest_latent_vector(initial_vector, num_optimization_steps,\n",
        "                               steps_per_image):\n",
        "  images = []\n",
        "  losses = []\n",
        "\n",
        "  vector = tf.Variable(initial_vector)  \n",
        "  optimizer = tf.optimizers.Adam(learning_rate=0.01)\n",
        "  loss_fn = tf.losses.MeanAbsoluteError(reduction=\"sum\")\n",
        "\n",
        "  for step in range(num_optimization_steps):\n",
        "    if (step % 100)==0:\n",
        "      print()\n",
        "    print('.', end='')\n",
        "    with tf.GradientTape() as tape:\n",
        "      image = progan(vector.read_value())['default'][0]\n",
        "      if (step % steps_per_image) == 0:\n",
        "        images.append(image.numpy())\n",
        "      target_image_difference = loss_fn(image, target_image[:,:,:3])\n",
        "      # The latent vectors were sampled from a normal distribution. We can get\n",
        "      # more realistic images if we regularize the length of the latent vector to \n",
        "      # the average length of vector from this distribution.\n",
        "      regularizer = tf.abs(tf.norm(vector) - np.sqrt(latent_dim))\n",
        "\n",
        "      loss = target_image_difference + regularizer\n",
        "      losses.append(loss.numpy())\n",
        "    grads = tape.gradient(loss, [vector])\n",
        "    optimizer.apply_gradients(zip(grads, [vector]))\n",
        "\n",
        "  return images, losses\n",
        "\n",
        "\n",
        "num_optimization_steps=100\n",
        "steps_per_image=5\n",
        "images, loss = find_closest_latent_vector(initial_vector, num_optimization_steps, steps_per_image)"
      ],
      "execution_count": null,
      "outputs": [
        {
          "output_type": "stream",
          "text": [
            "\n",
            "...................................................................................................."
          ],
          "name": "stdout"
        }
      ]
    },
    {
      "cell_type": "code",
      "metadata": {
        "colab": {
          "base_uri": "https://localhost:8080/",
          "height": 283
        },
        "id": "fMFJ1dhesr6p",
        "outputId": "0b5d5255-96eb-4447-eeff-913a0a0933d2"
      },
      "source": [
        "plt.plot(loss)\n",
        "plt.ylim([0,max(plt.ylim())])"
      ],
      "execution_count": null,
      "outputs": [
        {
          "output_type": "execute_result",
          "data": {
            "text/plain": [
              "(0.0, 5325.40034790039)"
            ]
          },
          "metadata": {
            "tags": []
          },
          "execution_count": 27
        },
        {
          "output_type": "display_data",
          "data": {
            "image/png": "[encoded data removed]",
            "text/plain": [
              "<Figure size 432x288 with 1 Axes>"
            ]
          },
          "metadata": {
            "tags": [],
            "needs_background": "light"
          }
        }
      ]
    },
    {
      "cell_type": "code",
      "metadata": {
        "colab": {
          "base_uri": "https://localhost:8080/",
          "height": 145
        },
        "id": "XpPhygTxsx1T",
        "outputId": "9ef575c0-3d88-4575-e77f-a483b0106ecf"
      },
      "source": [
        "display_image(np.concatenate([images[-1], target_image], axis=1))"
      ],
      "execution_count": null,
      "outputs": [
        {
          "output_type": "execute_result",
          "data": {
            "image/png": "[encoded data removed]",
            "text/plain": [
              "<PIL.Image.Image image mode=RGB size=256x128 at 0x7F6ACD0B74D0>"
            ]
          },
          "metadata": {
            "tags": []
          },
          "execution_count": 28
        }
      ]
    },
    {
      "cell_type": "markdown",
      "metadata": {
        "id": "_tvEjpiomPG6"
      },
      "source": [
        "##Simple GAN with Celeba"
      ]
    },
    {
      "cell_type": "code",
      "metadata": {
        "id": "CMwSr6qwo5n7",
        "colab": {
          "base_uri": "https://localhost:8080/"
        },
        "outputId": "3551bf39-0892-43ce-d750-1a106fd24fc0"
      },
      "source": [
        "from google.colab import drive\n",
        "drive.mount('/content/gdrive', force_remount=True)\n",
        "root_dir = \"/content/gdrive/My Drive/\""
      ],
      "execution_count": 1,
      "outputs": [
        {
          "output_type": "stream",
          "text": [
            "Mounted at /content/gdrive\n"
          ],
          "name": "stdout"
        }
      ]
    },
    {
      "cell_type": "code",
      "metadata": {
        "id": "aMKvpRyF4uSv"
      },
      "source": [
        "import zipfile"
      ],
      "execution_count": null,
      "outputs": []
    },
    {
      "cell_type": "code",
      "metadata": {
        "id": "WysNooiO4vZD"
      },
      "source": [
        "with zipfile.ZipFile('/content/gdrive/MyDrive/Celeba/img_align_celeba.zip', 'r') as zip_ref:\n",
        "  zip_ref.extractall('/content/gdrive/MyDrive/Celeba/cel')"
      ],
      "execution_count": null,
      "outputs": []
    },
    {
      "cell_type": "code",
      "metadata": {
        "id": "AiyEudYC0dXn"
      },
      "source": [
        "from keras import Input\n",
        "from keras.layers import Dense, Reshape, LeakyReLU, Conv2D, Conv2DTranspose, Flatten, Dropout\n",
        "from keras.models import Model\n",
        "from keras.optimizers import RMSprop\n",
        "from tqdm import tqdm\n",
        "import numpy as np\n",
        "import pandas as pd\n",
        "import os\n",
        "from PIL import Image\n",
        "from matplotlib import pyplot as plt\n",
        "import shutil"
      ],
      "execution_count": 2,
      "outputs": []
    },
    {
      "cell_type": "code",
      "metadata": {
        "colab": {
          "base_uri": "https://localhost:8080/",
          "height": 383
        },
        "id": "1E4mkAOSqWYF",
        "outputId": "cad4b056-0941-4a3d-d8e4-6079794d927c"
      },
      "source": [
        "about = pd.read_csv('/content/gdrive/MyDrive/Celeba/list_attr_celeba.csv')\n",
        "about[:10]"
      ],
      "execution_count": null,
      "outputs": [
        {
          "output_type": "execute_result",
          "data": {
            "text/html": [
              "<div>\n",
              "<style scoped>\n",
              "    .dataframe tbody tr th:only-of-type {\n",
              "        vertical-align: middle;\n",
              "    }\n",
              "\n",
              "    .dataframe tbody tr th {\n",
              "        vertical-align: top;\n",
              "    }\n",
              "\n",
              "    .dataframe thead th {\n",
              "        text-align: right;\n",
              "    }\n",
              "</style>\n",
              "<table border=\"1\" class=\"dataframe\">\n",
              "  <thead>\n",
              "    <tr style=\"text-align: right;\">\n",
              "      <th></th>\n",
              "      <th>image_id</th>\n",
              "      <th>5_o_Clock_Shadow</th>\n",
              "      <th>Arched_Eyebrows</th>\n",
              "      <th>Attractive</th>\n",
              "      <th>Bags_Under_Eyes</th>\n",
              "      <th>Bald</th>\n",
              "      <th>Bangs</th>\n",
              "      <th>Big_Lips</th>\n",
              "      <th>Big_Nose</th>\n",
              "      <th>Black_Hair</th>\n",
              "      <th>Blond_Hair</th>\n",
              "      <th>Blurry</th>\n",
              "      <th>Brown_Hair</th>\n",
              "      <th>Bushy_Eyebrows</th>\n",
              "      <th>Chubby</th>\n",
              "      <th>Double_Chin</th>\n",
              "      <th>Eyeglasses</th>\n",
              "      <th>Goatee</th>\n",
              "      <th>Gray_Hair</th>\n",
              "      <th>Heavy_Makeup</th>\n",
              "      <th>High_Cheekbones</th>\n",
              "      <th>Male</th>\n",
              "      <th>Mouth_Slightly_Open</th>\n",
              "      <th>Mustache</th>\n",
              "      <th>Narrow_Eyes</th>\n",
              "      <th>No_Beard</th>\n",
              "      <th>Oval_Face</th>\n",
              "      <th>Pale_Skin</th>\n",
              "      <th>Pointy_Nose</th>\n",
              "      <th>Receding_Hairline</th>\n",
              "      <th>Rosy_Cheeks</th>\n",
              "      <th>Sideburns</th>\n",
              "      <th>Smiling</th>\n",
              "      <th>Straight_Hair</th>\n",
              "      <th>Wavy_Hair</th>\n",
              "      <th>Wearing_Earrings</th>\n",
              "      <th>Wearing_Hat</th>\n",
              "      <th>Wearing_Lipstick</th>\n",
              "      <th>Wearing_Necklace</th>\n",
              "      <th>Wearing_Necktie</th>\n",
              "      <th>Young</th>\n",
              "    </tr>\n",
              "  </thead>\n",
              "  <tbody>\n",
              "    <tr>\n",
              "      <th>0</th>\n",
              "      <td>000001.jpg</td>\n",
              "      <td>-1</td>\n",
              "      <td>1</td>\n",
              "      <td>1</td>\n",
              "      <td>-1</td>\n",
              "      <td>-1</td>\n",
              "      <td>-1</td>\n",
              "      <td>-1</td>\n",
              "      <td>-1</td>\n",
              "      <td>-1</td>\n",
              "      <td>-1</td>\n",
              "      <td>-1</td>\n",
              "      <td>1</td>\n",
              "      <td>-1</td>\n",
              "      <td>-1</td>\n",
              "      <td>-1</td>\n",
              "      <td>-1</td>\n",
              "      <td>-1</td>\n",
              "      <td>-1</td>\n",
              "      <td>1</td>\n",
              "      <td>1</td>\n",
              "      <td>-1</td>\n",
              "      <td>1</td>\n",
              "      <td>-1</td>\n",
              "      <td>-1</td>\n",
              "      <td>1</td>\n",
              "      <td>-1</td>\n",
              "      <td>-1</td>\n",
              "      <td>1</td>\n",
              "      <td>-1</td>\n",
              "      <td>-1</td>\n",
              "      <td>-1</td>\n",
              "      <td>1</td>\n",
              "      <td>1</td>\n",
              "      <td>-1</td>\n",
              "      <td>1</td>\n",
              "      <td>-1</td>\n",
              "      <td>1</td>\n",
              "      <td>-1</td>\n",
              "      <td>-1</td>\n",
              "      <td>1</td>\n",
              "    </tr>\n",
              "    <tr>\n",
              "      <th>1</th>\n",
              "      <td>000002.jpg</td>\n",
              "      <td>-1</td>\n",
              "      <td>-1</td>\n",
              "      <td>-1</td>\n",
              "      <td>1</td>\n",
              "      <td>-1</td>\n",
              "      <td>-1</td>\n",
              "      <td>-1</td>\n",
              "      <td>1</td>\n",
              "      <td>-1</td>\n",
              "      <td>-1</td>\n",
              "      <td>-1</td>\n",
              "      <td>1</td>\n",
              "      <td>-1</td>\n",
              "      <td>-1</td>\n",
              "      <td>-1</td>\n",
              "      <td>-1</td>\n",
              "      <td>-1</td>\n",
              "      <td>-1</td>\n",
              "      <td>-1</td>\n",
              "      <td>1</td>\n",
              "      <td>-1</td>\n",
              "      <td>1</td>\n",
              "      <td>-1</td>\n",
              "      <td>-1</td>\n",
              "      <td>1</td>\n",
              "      <td>-1</td>\n",
              "      <td>-1</td>\n",
              "      <td>-1</td>\n",
              "      <td>-1</td>\n",
              "      <td>-1</td>\n",
              "      <td>-1</td>\n",
              "      <td>1</td>\n",
              "      <td>-1</td>\n",
              "      <td>-1</td>\n",
              "      <td>-1</td>\n",
              "      <td>-1</td>\n",
              "      <td>-1</td>\n",
              "      <td>-1</td>\n",
              "      <td>-1</td>\n",
              "      <td>1</td>\n",
              "    </tr>\n",
              "    <tr>\n",
              "      <th>2</th>\n",
              "      <td>000003.jpg</td>\n",
              "      <td>-1</td>\n",
              "      <td>-1</td>\n",
              "      <td>-1</td>\n",
              "      <td>-1</td>\n",
              "      <td>-1</td>\n",
              "      <td>-1</td>\n",
              "      <td>1</td>\n",
              "      <td>-1</td>\n",
              "      <td>-1</td>\n",
              "      <td>-1</td>\n",
              "      <td>1</td>\n",
              "      <td>-1</td>\n",
              "      <td>-1</td>\n",
              "      <td>-1</td>\n",
              "      <td>-1</td>\n",
              "      <td>-1</td>\n",
              "      <td>-1</td>\n",
              "      <td>-1</td>\n",
              "      <td>-1</td>\n",
              "      <td>-1</td>\n",
              "      <td>1</td>\n",
              "      <td>-1</td>\n",
              "      <td>-1</td>\n",
              "      <td>1</td>\n",
              "      <td>1</td>\n",
              "      <td>-1</td>\n",
              "      <td>-1</td>\n",
              "      <td>1</td>\n",
              "      <td>-1</td>\n",
              "      <td>-1</td>\n",
              "      <td>-1</td>\n",
              "      <td>-1</td>\n",
              "      <td>-1</td>\n",
              "      <td>1</td>\n",
              "      <td>-1</td>\n",
              "      <td>-1</td>\n",
              "      <td>-1</td>\n",
              "      <td>-1</td>\n",
              "      <td>-1</td>\n",
              "      <td>1</td>\n",
              "    </tr>\n",
              "    <tr>\n",
              "      <th>3</th>\n",
              "      <td>000004.jpg</td>\n",
              "      <td>-1</td>\n",
              "      <td>-1</td>\n",
              "      <td>1</td>\n",
              "      <td>-1</td>\n",
              "      <td>-1</td>\n",
              "      <td>-1</td>\n",
              "      <td>-1</td>\n",
              "      <td>-1</td>\n",
              "      <td>-1</td>\n",
              "      <td>-1</td>\n",
              "      <td>-1</td>\n",
              "      <td>-1</td>\n",
              "      <td>-1</td>\n",
              "      <td>-1</td>\n",
              "      <td>-1</td>\n",
              "      <td>-1</td>\n",
              "      <td>-1</td>\n",
              "      <td>-1</td>\n",
              "      <td>-1</td>\n",
              "      <td>-1</td>\n",
              "      <td>-1</td>\n",
              "      <td>-1</td>\n",
              "      <td>-1</td>\n",
              "      <td>-1</td>\n",
              "      <td>1</td>\n",
              "      <td>-1</td>\n",
              "      <td>-1</td>\n",
              "      <td>1</td>\n",
              "      <td>-1</td>\n",
              "      <td>-1</td>\n",
              "      <td>-1</td>\n",
              "      <td>-1</td>\n",
              "      <td>1</td>\n",
              "      <td>-1</td>\n",
              "      <td>1</td>\n",
              "      <td>-1</td>\n",
              "      <td>1</td>\n",
              "      <td>1</td>\n",
              "      <td>-1</td>\n",
              "      <td>1</td>\n",
              "    </tr>\n",
              "    <tr>\n",
              "      <th>4</th>\n",
              "      <td>000005.jpg</td>\n",
              "      <td>-1</td>\n",
              "      <td>1</td>\n",
              "      <td>1</td>\n",
              "      <td>-1</td>\n",
              "      <td>-1</td>\n",
              "      <td>-1</td>\n",
              "      <td>1</td>\n",
              "      <td>-1</td>\n",
              "      <td>-1</td>\n",
              "      <td>-1</td>\n",
              "      <td>-1</td>\n",
              "      <td>-1</td>\n",
              "      <td>-1</td>\n",
              "      <td>-1</td>\n",
              "      <td>-1</td>\n",
              "      <td>-1</td>\n",
              "      <td>-1</td>\n",
              "      <td>-1</td>\n",
              "      <td>1</td>\n",
              "      <td>-1</td>\n",
              "      <td>-1</td>\n",
              "      <td>-1</td>\n",
              "      <td>-1</td>\n",
              "      <td>1</td>\n",
              "      <td>1</td>\n",
              "      <td>-1</td>\n",
              "      <td>-1</td>\n",
              "      <td>1</td>\n",
              "      <td>-1</td>\n",
              "      <td>-1</td>\n",
              "      <td>-1</td>\n",
              "      <td>-1</td>\n",
              "      <td>-1</td>\n",
              "      <td>-1</td>\n",
              "      <td>-1</td>\n",
              "      <td>-1</td>\n",
              "      <td>1</td>\n",
              "      <td>-1</td>\n",
              "      <td>-1</td>\n",
              "      <td>1</td>\n",
              "    </tr>\n",
              "    <tr>\n",
              "      <th>5</th>\n",
              "      <td>000006.jpg</td>\n",
              "      <td>-1</td>\n",
              "      <td>1</td>\n",
              "      <td>1</td>\n",
              "      <td>-1</td>\n",
              "      <td>-1</td>\n",
              "      <td>-1</td>\n",
              "      <td>1</td>\n",
              "      <td>-1</td>\n",
              "      <td>-1</td>\n",
              "      <td>-1</td>\n",
              "      <td>-1</td>\n",
              "      <td>1</td>\n",
              "      <td>-1</td>\n",
              "      <td>-1</td>\n",
              "      <td>-1</td>\n",
              "      <td>-1</td>\n",
              "      <td>-1</td>\n",
              "      <td>-1</td>\n",
              "      <td>1</td>\n",
              "      <td>-1</td>\n",
              "      <td>-1</td>\n",
              "      <td>1</td>\n",
              "      <td>-1</td>\n",
              "      <td>-1</td>\n",
              "      <td>1</td>\n",
              "      <td>-1</td>\n",
              "      <td>-1</td>\n",
              "      <td>-1</td>\n",
              "      <td>-1</td>\n",
              "      <td>-1</td>\n",
              "      <td>-1</td>\n",
              "      <td>-1</td>\n",
              "      <td>-1</td>\n",
              "      <td>1</td>\n",
              "      <td>1</td>\n",
              "      <td>-1</td>\n",
              "      <td>1</td>\n",
              "      <td>-1</td>\n",
              "      <td>-1</td>\n",
              "      <td>1</td>\n",
              "    </tr>\n",
              "    <tr>\n",
              "      <th>6</th>\n",
              "      <td>000007.jpg</td>\n",
              "      <td>1</td>\n",
              "      <td>-1</td>\n",
              "      <td>1</td>\n",
              "      <td>1</td>\n",
              "      <td>-1</td>\n",
              "      <td>-1</td>\n",
              "      <td>1</td>\n",
              "      <td>1</td>\n",
              "      <td>1</td>\n",
              "      <td>-1</td>\n",
              "      <td>-1</td>\n",
              "      <td>-1</td>\n",
              "      <td>1</td>\n",
              "      <td>-1</td>\n",
              "      <td>-1</td>\n",
              "      <td>-1</td>\n",
              "      <td>-1</td>\n",
              "      <td>-1</td>\n",
              "      <td>-1</td>\n",
              "      <td>-1</td>\n",
              "      <td>1</td>\n",
              "      <td>-1</td>\n",
              "      <td>-1</td>\n",
              "      <td>-1</td>\n",
              "      <td>1</td>\n",
              "      <td>-1</td>\n",
              "      <td>-1</td>\n",
              "      <td>1</td>\n",
              "      <td>-1</td>\n",
              "      <td>-1</td>\n",
              "      <td>-1</td>\n",
              "      <td>-1</td>\n",
              "      <td>1</td>\n",
              "      <td>-1</td>\n",
              "      <td>-1</td>\n",
              "      <td>-1</td>\n",
              "      <td>-1</td>\n",
              "      <td>-1</td>\n",
              "      <td>-1</td>\n",
              "      <td>1</td>\n",
              "    </tr>\n",
              "    <tr>\n",
              "      <th>7</th>\n",
              "      <td>000008.jpg</td>\n",
              "      <td>1</td>\n",
              "      <td>1</td>\n",
              "      <td>-1</td>\n",
              "      <td>1</td>\n",
              "      <td>-1</td>\n",
              "      <td>-1</td>\n",
              "      <td>1</td>\n",
              "      <td>-1</td>\n",
              "      <td>1</td>\n",
              "      <td>-1</td>\n",
              "      <td>-1</td>\n",
              "      <td>-1</td>\n",
              "      <td>-1</td>\n",
              "      <td>-1</td>\n",
              "      <td>-1</td>\n",
              "      <td>-1</td>\n",
              "      <td>-1</td>\n",
              "      <td>-1</td>\n",
              "      <td>-1</td>\n",
              "      <td>-1</td>\n",
              "      <td>1</td>\n",
              "      <td>-1</td>\n",
              "      <td>-1</td>\n",
              "      <td>-1</td>\n",
              "      <td>1</td>\n",
              "      <td>-1</td>\n",
              "      <td>-1</td>\n",
              "      <td>1</td>\n",
              "      <td>-1</td>\n",
              "      <td>-1</td>\n",
              "      <td>-1</td>\n",
              "      <td>-1</td>\n",
              "      <td>-1</td>\n",
              "      <td>-1</td>\n",
              "      <td>-1</td>\n",
              "      <td>-1</td>\n",
              "      <td>-1</td>\n",
              "      <td>-1</td>\n",
              "      <td>-1</td>\n",
              "      <td>1</td>\n",
              "    </tr>\n",
              "    <tr>\n",
              "      <th>8</th>\n",
              "      <td>000009.jpg</td>\n",
              "      <td>-1</td>\n",
              "      <td>1</td>\n",
              "      <td>1</td>\n",
              "      <td>-1</td>\n",
              "      <td>-1</td>\n",
              "      <td>1</td>\n",
              "      <td>1</td>\n",
              "      <td>-1</td>\n",
              "      <td>-1</td>\n",
              "      <td>-1</td>\n",
              "      <td>-1</td>\n",
              "      <td>-1</td>\n",
              "      <td>-1</td>\n",
              "      <td>-1</td>\n",
              "      <td>-1</td>\n",
              "      <td>-1</td>\n",
              "      <td>-1</td>\n",
              "      <td>-1</td>\n",
              "      <td>1</td>\n",
              "      <td>1</td>\n",
              "      <td>-1</td>\n",
              "      <td>1</td>\n",
              "      <td>-1</td>\n",
              "      <td>-1</td>\n",
              "      <td>1</td>\n",
              "      <td>1</td>\n",
              "      <td>-1</td>\n",
              "      <td>1</td>\n",
              "      <td>-1</td>\n",
              "      <td>1</td>\n",
              "      <td>-1</td>\n",
              "      <td>1</td>\n",
              "      <td>-1</td>\n",
              "      <td>-1</td>\n",
              "      <td>1</td>\n",
              "      <td>-1</td>\n",
              "      <td>1</td>\n",
              "      <td>-1</td>\n",
              "      <td>-1</td>\n",
              "      <td>1</td>\n",
              "    </tr>\n",
              "    <tr>\n",
              "      <th>9</th>\n",
              "      <td>000010.jpg</td>\n",
              "      <td>-1</td>\n",
              "      <td>-1</td>\n",
              "      <td>1</td>\n",
              "      <td>-1</td>\n",
              "      <td>-1</td>\n",
              "      <td>-1</td>\n",
              "      <td>-1</td>\n",
              "      <td>-1</td>\n",
              "      <td>-1</td>\n",
              "      <td>-1</td>\n",
              "      <td>-1</td>\n",
              "      <td>-1</td>\n",
              "      <td>-1</td>\n",
              "      <td>-1</td>\n",
              "      <td>-1</td>\n",
              "      <td>-1</td>\n",
              "      <td>-1</td>\n",
              "      <td>-1</td>\n",
              "      <td>1</td>\n",
              "      <td>1</td>\n",
              "      <td>-1</td>\n",
              "      <td>-1</td>\n",
              "      <td>-1</td>\n",
              "      <td>-1</td>\n",
              "      <td>1</td>\n",
              "      <td>-1</td>\n",
              "      <td>-1</td>\n",
              "      <td>-1</td>\n",
              "      <td>-1</td>\n",
              "      <td>-1</td>\n",
              "      <td>-1</td>\n",
              "      <td>-1</td>\n",
              "      <td>-1</td>\n",
              "      <td>1</td>\n",
              "      <td>-1</td>\n",
              "      <td>-1</td>\n",
              "      <td>1</td>\n",
              "      <td>-1</td>\n",
              "      <td>-1</td>\n",
              "      <td>1</td>\n",
              "    </tr>\n",
              "  </tbody>\n",
              "</table>\n",
              "</div>"
            ],
            "text/plain": [
              "     image_id  5_o_Clock_Shadow  ...  Wearing_Necktie  Young\n",
              "0  000001.jpg                -1  ...               -1      1\n",
              "1  000002.jpg                -1  ...               -1      1\n",
              "2  000003.jpg                -1  ...               -1      1\n",
              "3  000004.jpg                -1  ...               -1      1\n",
              "4  000005.jpg                -1  ...               -1      1\n",
              "5  000006.jpg                -1  ...               -1      1\n",
              "6  000007.jpg                 1  ...               -1      1\n",
              "7  000008.jpg                 1  ...               -1      1\n",
              "8  000009.jpg                -1  ...               -1      1\n",
              "9  000010.jpg                -1  ...               -1      1\n",
              "\n",
              "[10 rows x 41 columns]"
            ]
          },
          "metadata": {
            "tags": []
          },
          "execution_count": 11
        }
      ]
    },
    {
      "cell_type": "code",
      "metadata": {
        "colab": {
          "base_uri": "https://localhost:8080/"
        },
        "id": "ZeyQNDgyqndW",
        "outputId": "e28942c4-e2ac-4133-c4ff-e81e170f866d"
      },
      "source": [
        "about.columns, about.shape"
      ],
      "execution_count": null,
      "outputs": [
        {
          "output_type": "execute_result",
          "data": {
            "text/plain": [
              "(Index(['image_id', '5_o_Clock_Shadow', 'Arched_Eyebrows', 'Attractive',\n",
              "        'Bags_Under_Eyes', 'Bald', 'Bangs', 'Big_Lips', 'Big_Nose',\n",
              "        'Black_Hair', 'Blond_Hair', 'Blurry', 'Brown_Hair', 'Bushy_Eyebrows',\n",
              "        'Chubby', 'Double_Chin', 'Eyeglasses', 'Goatee', 'Gray_Hair',\n",
              "        'Heavy_Makeup', 'High_Cheekbones', 'Male', 'Mouth_Slightly_Open',\n",
              "        'Mustache', 'Narrow_Eyes', 'No_Beard', 'Oval_Face', 'Pale_Skin',\n",
              "        'Pointy_Nose', 'Receding_Hairline', 'Rosy_Cheeks', 'Sideburns',\n",
              "        'Smiling', 'Straight_Hair', 'Wavy_Hair', 'Wearing_Earrings',\n",
              "        'Wearing_Hat', 'Wearing_Lipstick', 'Wearing_Necklace',\n",
              "        'Wearing_Necktie', 'Young'],\n",
              "       dtype='object'), (202599, 41))"
            ]
          },
          "metadata": {
            "tags": []
          },
          "execution_count": 5
        }
      ]
    },
    {
      "cell_type": "code",
      "metadata": {
        "colab": {
          "base_uri": "https://localhost:8080/"
        },
        "id": "acLwOwrVrOve",
        "outputId": "b7fa6c9b-f0f9-4624-aa85-8badd99830d2"
      },
      "source": [
        "fblackh = about[(about['Male']==-1)&(about['Black_Hair']==1)]\n",
        "fblackh.shape"
      ],
      "execution_count": null,
      "outputs": [
        {
          "output_type": "execute_result",
          "data": {
            "text/plain": [
              "(23316, 41)"
            ]
          },
          "metadata": {
            "tags": []
          },
          "execution_count": 12
        }
      ]
    },
    {
      "cell_type": "code",
      "metadata": {
        "colab": {
          "base_uri": "https://localhost:8080/",
          "height": 163
        },
        "id": "1r6prF1TtxU0",
        "outputId": "c0be0fa5-3ae5-475e-80b7-9f60cb57bd44"
      },
      "source": [
        "fblackh[:3]"
      ],
      "execution_count": null,
      "outputs": [
        {
          "output_type": "execute_result",
          "data": {
            "text/html": [
              "<div>\n",
              "<style scoped>\n",
              "    .dataframe tbody tr th:only-of-type {\n",
              "        vertical-align: middle;\n",
              "    }\n",
              "\n",
              "    .dataframe tbody tr th {\n",
              "        vertical-align: top;\n",
              "    }\n",
              "\n",
              "    .dataframe thead th {\n",
              "        text-align: right;\n",
              "    }\n",
              "</style>\n",
              "<table border=\"1\" class=\"dataframe\">\n",
              "  <thead>\n",
              "    <tr style=\"text-align: right;\">\n",
              "      <th></th>\n",
              "      <th>image_id</th>\n",
              "      <th>5_o_Clock_Shadow</th>\n",
              "      <th>Arched_Eyebrows</th>\n",
              "      <th>Attractive</th>\n",
              "      <th>Bags_Under_Eyes</th>\n",
              "      <th>Bald</th>\n",
              "      <th>Bangs</th>\n",
              "      <th>Big_Lips</th>\n",
              "      <th>Big_Nose</th>\n",
              "      <th>Black_Hair</th>\n",
              "      <th>Blond_Hair</th>\n",
              "      <th>Blurry</th>\n",
              "      <th>Brown_Hair</th>\n",
              "      <th>Bushy_Eyebrows</th>\n",
              "      <th>Chubby</th>\n",
              "      <th>Double_Chin</th>\n",
              "      <th>Eyeglasses</th>\n",
              "      <th>Goatee</th>\n",
              "      <th>Gray_Hair</th>\n",
              "      <th>Heavy_Makeup</th>\n",
              "      <th>High_Cheekbones</th>\n",
              "      <th>Male</th>\n",
              "      <th>Mouth_Slightly_Open</th>\n",
              "      <th>Mustache</th>\n",
              "      <th>Narrow_Eyes</th>\n",
              "      <th>No_Beard</th>\n",
              "      <th>Oval_Face</th>\n",
              "      <th>Pale_Skin</th>\n",
              "      <th>Pointy_Nose</th>\n",
              "      <th>Receding_Hairline</th>\n",
              "      <th>Rosy_Cheeks</th>\n",
              "      <th>Sideburns</th>\n",
              "      <th>Smiling</th>\n",
              "      <th>Straight_Hair</th>\n",
              "      <th>Wavy_Hair</th>\n",
              "      <th>Wearing_Earrings</th>\n",
              "      <th>Wearing_Hat</th>\n",
              "      <th>Wearing_Lipstick</th>\n",
              "      <th>Wearing_Necklace</th>\n",
              "      <th>Wearing_Necktie</th>\n",
              "      <th>Young</th>\n",
              "    </tr>\n",
              "  </thead>\n",
              "  <tbody>\n",
              "    <tr>\n",
              "      <th>10</th>\n",
              "      <td>000011.jpg</td>\n",
              "      <td>-1</td>\n",
              "      <td>-1</td>\n",
              "      <td>1</td>\n",
              "      <td>-1</td>\n",
              "      <td>-1</td>\n",
              "      <td>-1</td>\n",
              "      <td>-1</td>\n",
              "      <td>-1</td>\n",
              "      <td>1</td>\n",
              "      <td>-1</td>\n",
              "      <td>-1</td>\n",
              "      <td>-1</td>\n",
              "      <td>-1</td>\n",
              "      <td>-1</td>\n",
              "      <td>-1</td>\n",
              "      <td>-1</td>\n",
              "      <td>-1</td>\n",
              "      <td>-1</td>\n",
              "      <td>-1</td>\n",
              "      <td>-1</td>\n",
              "      <td>-1</td>\n",
              "      <td>1</td>\n",
              "      <td>-1</td>\n",
              "      <td>-1</td>\n",
              "      <td>1</td>\n",
              "      <td>-1</td>\n",
              "      <td>-1</td>\n",
              "      <td>-1</td>\n",
              "      <td>-1</td>\n",
              "      <td>-1</td>\n",
              "      <td>-1</td>\n",
              "      <td>1</td>\n",
              "      <td>-1</td>\n",
              "      <td>-1</td>\n",
              "      <td>-1</td>\n",
              "      <td>-1</td>\n",
              "      <td>-1</td>\n",
              "      <td>-1</td>\n",
              "      <td>-1</td>\n",
              "      <td>1</td>\n",
              "    </tr>\n",
              "    <tr>\n",
              "      <th>13</th>\n",
              "      <td>000014.jpg</td>\n",
              "      <td>-1</td>\n",
              "      <td>1</td>\n",
              "      <td>-1</td>\n",
              "      <td>-1</td>\n",
              "      <td>-1</td>\n",
              "      <td>-1</td>\n",
              "      <td>-1</td>\n",
              "      <td>1</td>\n",
              "      <td>1</td>\n",
              "      <td>-1</td>\n",
              "      <td>-1</td>\n",
              "      <td>-1</td>\n",
              "      <td>1</td>\n",
              "      <td>-1</td>\n",
              "      <td>-1</td>\n",
              "      <td>-1</td>\n",
              "      <td>-1</td>\n",
              "      <td>-1</td>\n",
              "      <td>1</td>\n",
              "      <td>1</td>\n",
              "      <td>-1</td>\n",
              "      <td>-1</td>\n",
              "      <td>-1</td>\n",
              "      <td>-1</td>\n",
              "      <td>1</td>\n",
              "      <td>-1</td>\n",
              "      <td>-1</td>\n",
              "      <td>-1</td>\n",
              "      <td>-1</td>\n",
              "      <td>-1</td>\n",
              "      <td>-1</td>\n",
              "      <td>1</td>\n",
              "      <td>-1</td>\n",
              "      <td>-1</td>\n",
              "      <td>-1</td>\n",
              "      <td>-1</td>\n",
              "      <td>1</td>\n",
              "      <td>1</td>\n",
              "      <td>-1</td>\n",
              "      <td>1</td>\n",
              "    </tr>\n",
              "    <tr>\n",
              "      <th>16</th>\n",
              "      <td>000017.jpg</td>\n",
              "      <td>-1</td>\n",
              "      <td>-1</td>\n",
              "      <td>-1</td>\n",
              "      <td>-1</td>\n",
              "      <td>-1</td>\n",
              "      <td>-1</td>\n",
              "      <td>-1</td>\n",
              "      <td>-1</td>\n",
              "      <td>1</td>\n",
              "      <td>-1</td>\n",
              "      <td>-1</td>\n",
              "      <td>-1</td>\n",
              "      <td>-1</td>\n",
              "      <td>-1</td>\n",
              "      <td>-1</td>\n",
              "      <td>-1</td>\n",
              "      <td>-1</td>\n",
              "      <td>-1</td>\n",
              "      <td>-1</td>\n",
              "      <td>1</td>\n",
              "      <td>-1</td>\n",
              "      <td>1</td>\n",
              "      <td>-1</td>\n",
              "      <td>-1</td>\n",
              "      <td>1</td>\n",
              "      <td>1</td>\n",
              "      <td>-1</td>\n",
              "      <td>-1</td>\n",
              "      <td>-1</td>\n",
              "      <td>-1</td>\n",
              "      <td>-1</td>\n",
              "      <td>1</td>\n",
              "      <td>1</td>\n",
              "      <td>-1</td>\n",
              "      <td>-1</td>\n",
              "      <td>-1</td>\n",
              "      <td>-1</td>\n",
              "      <td>-1</td>\n",
              "      <td>-1</td>\n",
              "      <td>1</td>\n",
              "    </tr>\n",
              "  </tbody>\n",
              "</table>\n",
              "</div>"
            ],
            "text/plain": [
              "      image_id  5_o_Clock_Shadow  ...  Wearing_Necktie  Young\n",
              "10  000011.jpg                -1  ...               -1      1\n",
              "13  000014.jpg                -1  ...               -1      1\n",
              "16  000017.jpg                -1  ...               -1      1\n",
              "\n",
              "[3 rows x 41 columns]"
            ]
          },
          "metadata": {
            "tags": []
          },
          "execution_count": 12
        }
      ]
    },
    {
      "cell_type": "code",
      "metadata": {
        "id": "n3i1RAt3iZnD"
      },
      "source": [
        "im_names = fblackh['image_id'].to_list()\n",
        "#im_names"
      ],
      "execution_count": null,
      "outputs": []
    },
    {
      "cell_type": "code",
      "metadata": {
        "id": "gTrzuxqPT2_h"
      },
      "source": [
        "c= im_names[1620:]"
      ],
      "execution_count": null,
      "outputs": []
    },
    {
      "cell_type": "code",
      "metadata": {
        "colab": {
          "base_uri": "https://localhost:8080/"
        },
        "id": "wt7HVdTEVcH9",
        "outputId": "c9f3f429-c17b-4fd6-fe13-42c06f678a60"
      },
      "source": [
        "os.listdir('/content/gdrive/MyDrive/Celeba/cel/img_align_celeba')[:10]"
      ],
      "execution_count": null,
      "outputs": [
        {
          "output_type": "execute_result",
          "data": {
            "text/plain": [
              "['014035.jpg',\n",
              " '014036.jpg',\n",
              " '014037.jpg',\n",
              " '014038.jpg',\n",
              " '014039.jpg',\n",
              " '014040.jpg',\n",
              " '014041.jpg',\n",
              " '014042.jpg',\n",
              " '014043.jpg',\n",
              " '014044.jpg']"
            ]
          },
          "metadata": {
            "tags": []
          },
          "execution_count": 27
        }
      ]
    },
    {
      "cell_type": "code",
      "metadata": {
        "colab": {
          "base_uri": "https://localhost:8080/"
        },
        "id": "-Yh3Z6lz17ql",
        "outputId": "c8b4438a-90a5-4894-bcd5-136a3ab6c3a4"
      },
      "source": [
        "os.listdir('/content/gdrive/MyDrive/Celeba/cel/img_align_celeba')[:10]\n",
        "#len(os.listdir('/content/gdrive/MyDrive/Celeba/cel/img_align_celeba'))\n",
        "#os.path.isfile('/content/gdrive/MyDrive/Celeba/cel/img_align_celeba/000011.jpg')"
      ],
      "execution_count": null,
      "outputs": [
        {
          "output_type": "execute_result",
          "data": {
            "text/plain": [
              "202599"
            ]
          },
          "metadata": {
            "tags": []
          },
          "execution_count": 23
        }
      ]
    },
    {
      "cell_type": "code",
      "metadata": {
        "id": "df6ttRdduPg1"
      },
      "source": [
        "#l = ['080129.jpg', '175809.jpg']\n",
        "#l = ['000011.jpg', '000017.jpg']\n",
        "for i in c:#im_names:\n",
        "  shutil.move('/content/gdrive/MyDrive/Celeba/cel/img_align_celeba/'+i, '/content/gdrive/MyDrive/Celeba/femblackh')"
      ],
      "execution_count": null,
      "outputs": []
    },
    {
      "cell_type": "code",
      "metadata": {
        "colab": {
          "base_uri": "https://localhost:8080/"
        },
        "id": "_bseMHaV5BQN",
        "outputId": "ab330cdc-281a-428f-f51f-b464e94273ed"
      },
      "source": [
        "len(os.listdir('/content/gdrive/MyDrive/Celeba/cel/img_align_celeba')), len(os.listdir('/content/gdrive/MyDrive/Celeba/femblackh'))"
      ],
      "execution_count": null,
      "outputs": [
        {
          "output_type": "execute_result",
          "data": {
            "text/plain": [
              "(188565, 0)"
            ]
          },
          "metadata": {
            "tags": []
          },
          "execution_count": 14
        }
      ]
    },
    {
      "cell_type": "code",
      "metadata": {
        "colab": {
          "base_uri": "https://localhost:8080/"
        },
        "id": "YdkK4MKR6K9s",
        "outputId": "ef72d924-e2a4-4256-c93a-863f5d8b3cae"
      },
      "source": [
        "#len(os.listdir('/content/gdrive/MyDrive/Celeba/cel/img_align_celeba')), len(os.listdir('/content/gdrive/MyDrive/Celeba/femblackh'))\n",
        "len(os.listdir('/content/gdrive/MyDrive/Celeba/femblackh'))"
      ],
      "execution_count": null,
      "outputs": [
        {
          "output_type": "execute_result",
          "data": {
            "text/plain": [
              "21696"
            ]
          },
          "metadata": {
            "tags": []
          },
          "execution_count": 38
        }
      ]
    },
    {
      "cell_type": "code",
      "metadata": {
        "id": "aE-w1Aw_NWep"
      },
      "source": [
        "#4"
      ],
      "execution_count": null,
      "outputs": []
    },
    {
      "cell_type": "code",
      "metadata": {
        "id": "6taTKot6JgLY",
        "colab": {
          "base_uri": "https://localhost:8080/",
          "height": 142
        },
        "outputId": "0ceb4344-c0b7-4511-bcf6-79d57a14b1a0"
      },
      "source": [
        "\n",
        "#\n",
        "\n",
        "PIC_DIR = '/content/gdrive/MyDrive/Celeba/fbh_/'#'/content/gdrive/MyDrive/Celeba/cel/img_align_celeba/'\n",
        "#r'C:\\Users\\Tanya\\Desktop\\img_align_celeba'#r'C:\\Users\\Tanya\\Desktop\\GAN_Celeba\\img_align_celeba'\n",
        "#r'C:\\Users\\Tanya\\Desktop\\GAN_Celeba\\img_align_celeba'#r'C:\\Users\\Tanya\\Desktop\\GAN_Celeba\\img_align_celeba/'\n",
        "IMAGES_COUNT = 23316\n",
        "ORIG_WIDTH = 178\n",
        "ORIG_HEIGHT = 208\n",
        "diff = (ORIG_HEIGHT - ORIG_WIDTH) // 2\n",
        "WIDTH = 128\n",
        "HEIGHT = 128\n",
        "crop_rect = (0, diff, ORIG_WIDTH, ORIG_HEIGHT - diff)\n",
        "images = []\n",
        "for pic_file in tqdm(os.listdir(PIC_DIR)[:IMAGES_COUNT]):\n",
        "    pic = Image.open(PIC_DIR + pic_file).crop(crop_rect)\n",
        "    pic.thumbnail((WIDTH, HEIGHT), Image.ANTIALIAS)\n",
        "    images.append(np.uint8(pic)) #Normalize the images\n",
        "images = np.array(images) / 255\n",
        "images.shape #print first 5 images\n",
        "plt.figure(1, figsize=(10, 10))\n",
        "for i in range(5):\n",
        "    plt.subplot(5, 5, i+1)\n",
        "    plt.imshow(images[i])\n",
        "    plt.axis('off')\n",
        "plt.show()"
      ],
      "execution_count": 5,
      "outputs": [
        {
          "output_type": "stream",
          "text": [
            "100%|██████████| 23316/23316 [3:59:40<00:00,  1.62it/s]\n"
          ],
          "name": "stderr"
        },
        {
          "output_type": "display_data",
          "data": {
            "image/png": "[encoded data removed]",
            "text/plain": [
              "<Figure size 720x720 with 5 Axes>"
            ]
          },
          "metadata": {
            "tags": [],
            "needs_background": "light"
          }
        }
      ]
    },
    {
      "cell_type": "code",
      "metadata": {
        "id": "EtTMFxLnVP1J"
      },
      "source": [
        "#https://github.com/nageshsinghc4/Face-generation-GAN/blob/master/face_GAN.ipynb\n",
        "LATENT_DIM = 32\n",
        "CHANNELS = 3\n",
        "def create_generator():\n",
        "    gen_input = Input(shape=(LATENT_DIM, ))\n",
        "    \n",
        "    x = Dense(128 * 16 * 16)(gen_input)\n",
        "    x = LeakyReLU()(x)\n",
        "    x = Reshape((16, 16, 128))(x)\n",
        "    \n",
        "    x = Conv2D(256, 5, padding='same')(x)\n",
        "    x = LeakyReLU()(x)\n",
        "    \n",
        "    x = Conv2DTranspose(256, 4, strides=2, padding='same')(x)\n",
        "    x = LeakyReLU()(x)\n",
        "    \n",
        "    x = Conv2DTranspose(256, 4, strides=2, padding='same')(x)\n",
        "    x = LeakyReLU()(x)\n",
        "    \n",
        "    x = Conv2DTranspose(256, 4, strides=2, padding='same')(x)\n",
        "    x = LeakyReLU()(x)\n",
        "    \n",
        "    x = Conv2D(512, 5, padding='same')(x)\n",
        "    x = LeakyReLU()(x)\n",
        "    x = Conv2D(512, 5, padding='same')(x)\n",
        "    x = LeakyReLU()(x)\n",
        "    x = Conv2D(CHANNELS, 7, activation='tanh', padding='same')(x)\n",
        "    \n",
        "    generator = Model(gen_input, x)\n",
        "    return generator"
      ],
      "execution_count": 6,
      "outputs": []
    },
    {
      "cell_type": "code",
      "metadata": {
        "id": "QdjsGGS3VQvw"
      },
      "source": [
        "def create_discriminator():\n",
        "    disc_input = Input(shape=(HEIGHT, WIDTH, CHANNELS))\n",
        "    \n",
        "    x = Conv2D(256, 3)(disc_input)\n",
        "    x = LeakyReLU()(x)\n",
        "    \n",
        "    x = Conv2D(256, 4, strides=2)(x)\n",
        "    x = LeakyReLU()(x)\n",
        "    \n",
        "    x = Conv2D(256, 4, strides=2)(x)\n",
        "    x = LeakyReLU()(x)\n",
        "    \n",
        "    x = Conv2D(256, 4, strides=2)(x)\n",
        "    x = LeakyReLU()(x)\n",
        "    \n",
        "    x = Conv2D(256, 4, strides=2)(x)\n",
        "    x = LeakyReLU()(x)\n",
        "    \n",
        "    x = Flatten()(x)\n",
        "    x = Dropout(0.4)(x)\n",
        "    \n",
        "    x = Dense(1, activation='sigmoid')(x)\n",
        "    discriminator = Model(disc_input, x)\n",
        "    \n",
        "    optimizer = RMSprop(\n",
        "        learning_rate=.0001,\n",
        "        clipvalue=1.0,\n",
        "        decay=1e-8\n",
        "    )\n",
        "    \n",
        "    discriminator.compile(\n",
        "        optimizer=optimizer,\n",
        "        loss='binary_crossentropy'\n",
        "    )\n",
        "    \n",
        "    return discriminator\n"
      ],
      "execution_count": 7,
      "outputs": []
    },
    {
      "cell_type": "code",
      "metadata": {
        "id": "GDEZjcKlVV0k"
      },
      "source": [
        "generator = create_generator()\n",
        "discriminator = create_discriminator()\n",
        "discriminator.trainable = False\n"
      ],
      "execution_count": 8,
      "outputs": []
    },
    {
      "cell_type": "code",
      "metadata": {
        "id": "Kr8fIOPG0--u"
      },
      "source": [
        "gan_input = Input(shape=(LATENT_DIM, ))\n",
        "gan_output = discriminator(generator(gan_input))\n",
        "gan = Model(gan_input, gan_output)#Adversarial Model\n",
        "optimizer = RMSprop(learning_rate=.0001, clipvalue=1.0, decay=1e-8)\n",
        "gan.compile(optimizer=optimizer, loss='binary_crossentropy')"
      ],
      "execution_count": 9,
      "outputs": []
    },
    {
      "cell_type": "code",
      "metadata": {
        "id": "wmqphmFbVYeH",
        "colab": {
          "base_uri": "https://localhost:8080/"
        },
        "outputId": "95d9b1d2-b7e0-4a76-cb95-3849d5c8f76e"
      },
      "source": [
        "import time\n",
        "iters = 10000\n",
        "batch_size = 16\n",
        "RES_DIR = 'res2'\n",
        "FILE_PATH = '%s/generated_%d.png'\n",
        "if not os.path.isdir(RES_DIR):\n",
        "    os.mkdir(RES_DIR)\n",
        "CONTROL_SIZE_SQRT = 6\n",
        "control_vectors = np.random.normal(size=(CONTROL_SIZE_SQRT**2, LATENT_DIM)) / 2\n",
        "start = 0\n",
        "d_losses = []\n",
        "a_losses = []\n",
        "images_saved = 0\n",
        "for step in range(iters):\n",
        "    start_time = time.time()\n",
        "    latent_vectors = np.random.normal(size=(batch_size, LATENT_DIM))\n",
        "    generated = generator.predict(latent_vectors)\n",
        "    \n",
        "    real = images[start:start + batch_size]\n",
        "    combined_images = np.concatenate([generated, real])\n",
        "    \n",
        "    labels = np.concatenate([np.ones((batch_size, 1)), np.zeros((batch_size, 1))])\n",
        "    labels += .05 * np.random.random(labels.shape)\n",
        "    \n",
        "    d_loss = discriminator.train_on_batch(combined_images, labels)\n",
        "    d_losses.append(d_loss)\n",
        "    \n",
        "    latent_vectors = np.random.normal(size=(batch_size, LATENT_DIM))\n",
        "    misleading_targets = np.zeros((batch_size, 1))\n",
        "    \n",
        "    a_loss = gan.train_on_batch(latent_vectors, misleading_targets)\n",
        "    a_losses.append(a_loss)\n",
        "    \n",
        "    start += batch_size\n",
        "    if start > images.shape[0] - batch_size:\n",
        "        start = 0\n",
        "    \n",
        "    if step % 50 == 49:\n",
        "        gan.save_weights('gan.h5')\n",
        "        \n",
        "        print('%d/%d: d_loss: %.4f,  a_loss: %.4f.  (%.1f sec)' % (step + 1, iters, d_loss, a_loss, time.time() - start_time))\n",
        "        \n",
        "        control_image = np.zeros((WIDTH * CONTROL_SIZE_SQRT, HEIGHT * CONTROL_SIZE_SQRT, CHANNELS))\n",
        "        control_generated = generator.predict(control_vectors)\n",
        "        for i in range(CONTROL_SIZE_SQRT ** 2):\n",
        "            x_off = i % CONTROL_SIZE_SQRT\n",
        "            y_off = i // CONTROL_SIZE_SQRT\n",
        "            control_image[x_off * WIDTH:(x_off + 1) * WIDTH, y_off * HEIGHT:(y_off + 1) * HEIGHT, :] = control_generated[i, :, :, :]\n",
        "        im = Image.fromarray(np.uint8(control_image * 255))\n",
        "        im.save(FILE_PATH % (RES_DIR, images_saved))\n",
        "        images_saved += 1\n",
        "\n",
        "plt.figure(1, figsize=(12, 8))\n",
        "plt.subplot(121)\n",
        "plt.plot(d_losses)\n",
        "plt.xlabel('Epochs')\n",
        "plt.ylabel('Discriminant losses')\n",
        "plt.subplot(122)\n",
        "plt.plot(a_losses)\n",
        "plt.xlabel('Epochs')\n",
        "plt.ylabel('Adversary losses')\n",
        "plt.show()"
      ],
      "execution_count": null,
      "outputs": [
        {
          "output_type": "stream",
          "text": [
            "50/10000: d_loss: 0.5607,  a_loss: 0.6758.  (4.5 sec)\n",
            "100/10000: d_loss: 0.5084,  a_loss: 1.4606.  (4.3 sec)\n",
            "150/10000: d_loss: 0.2814,  a_loss: 1.4345.  (4.3 sec)\n",
            "200/10000: d_loss: 0.6323,  a_loss: 1.2416.  (4.3 sec)\n",
            "250/10000: d_loss: 0.7389,  a_loss: 1.3812.  (4.3 sec)\n",
            "300/10000: d_loss: 0.6142,  a_loss: 1.7761.  (4.3 sec)\n",
            "350/10000: d_loss: 0.5080,  a_loss: 1.2298.  (4.3 sec)\n",
            "400/10000: d_loss: 0.5978,  a_loss: 3.4684.  (4.3 sec)\n",
            "450/10000: d_loss: 0.6110,  a_loss: 1.2485.  (4.8 sec)\n",
            "500/10000: d_loss: 0.6424,  a_loss: 1.3424.  (4.3 sec)\n",
            "550/10000: d_loss: 0.6416,  a_loss: 0.8016.  (4.3 sec)\n",
            "600/10000: d_loss: 0.6374,  a_loss: 0.8460.  (4.3 sec)\n",
            "650/10000: d_loss: 0.6091,  a_loss: 0.7481.  (4.8 sec)\n",
            "700/10000: d_loss: 0.6672,  a_loss: 1.5237.  (4.3 sec)\n",
            "750/10000: d_loss: 0.6633,  a_loss: 0.8769.  (4.3 sec)\n",
            "800/10000: d_loss: 0.6503,  a_loss: 0.8263.  (4.3 sec)\n",
            "850/10000: d_loss: 0.7839,  a_loss: 1.2205.  (4.3 sec)\n",
            "900/10000: d_loss: 0.6678,  a_loss: 0.7831.  (4.3 sec)\n",
            "950/10000: d_loss: 0.6413,  a_loss: 0.7893.  (4.3 sec)\n",
            "1000/10000: d_loss: 0.7133,  a_loss: 0.8075.  (4.3 sec)\n",
            "1050/10000: d_loss: 0.6955,  a_loss: 0.7699.  (4.2 sec)\n",
            "1100/10000: d_loss: 0.6694,  a_loss: 0.8912.  (4.3 sec)\n",
            "1150/10000: d_loss: 0.6982,  a_loss: 0.8708.  (4.2 sec)\n",
            "1200/10000: d_loss: 0.6999,  a_loss: 0.8168.  (4.2 sec)\n",
            "1250/10000: d_loss: 0.6719,  a_loss: 0.8083.  (4.2 sec)\n",
            "1300/10000: d_loss: 0.7127,  a_loss: 0.7439.  (4.2 sec)\n",
            "1350/10000: d_loss: 0.6885,  a_loss: 0.8184.  (4.2 sec)\n",
            "1400/10000: d_loss: 0.6927,  a_loss: 0.8866.  (4.8 sec)\n",
            "1450/10000: d_loss: 0.6939,  a_loss: 0.8715.  (4.8 sec)\n",
            "1500/10000: d_loss: 0.6902,  a_loss: 0.7819.  (4.2 sec)\n",
            "1550/10000: d_loss: 0.7006,  a_loss: 0.7606.  (4.3 sec)\n",
            "1600/10000: d_loss: 0.9098,  a_loss: 1.6666.  (4.2 sec)\n",
            "1650/10000: d_loss: 0.6948,  a_loss: 0.7425.  (4.2 sec)\n",
            "1700/10000: d_loss: 0.7207,  a_loss: 0.7720.  (4.2 sec)\n",
            "1750/10000: d_loss: 0.6861,  a_loss: 0.7405.  (4.2 sec)\n",
            "1800/10000: d_loss: 0.6580,  a_loss: 0.7902.  (4.8 sec)\n",
            "1850/10000: d_loss: 0.6816,  a_loss: 0.7301.  (4.2 sec)\n",
            "1900/10000: d_loss: 0.7096,  a_loss: 0.8344.  (4.2 sec)\n",
            "1950/10000: d_loss: 0.7135,  a_loss: 0.7800.  (4.2 sec)\n",
            "2000/10000: d_loss: 0.7057,  a_loss: 0.7587.  (4.8 sec)\n",
            "2050/10000: d_loss: 0.6742,  a_loss: 0.7624.  (4.2 sec)\n",
            "2100/10000: d_loss: 0.6919,  a_loss: 0.7672.  (4.2 sec)\n",
            "2150/10000: d_loss: 0.7032,  a_loss: 0.8048.  (4.2 sec)\n",
            "2200/10000: d_loss: 0.7193,  a_loss: 0.8547.  (4.8 sec)\n",
            "2250/10000: d_loss: 0.6668,  a_loss: 0.8028.  (4.3 sec)\n",
            "2300/10000: d_loss: 0.7020,  a_loss: 0.7536.  (4.8 sec)\n",
            "2350/10000: d_loss: 0.6912,  a_loss: 0.7628.  (4.3 sec)\n",
            "2400/10000: d_loss: 0.6165,  a_loss: 1.0171.  (4.8 sec)\n",
            "2450/10000: d_loss: 0.7047,  a_loss: 0.7921.  (4.3 sec)\n",
            "2500/10000: d_loss: 0.7002,  a_loss: 0.8182.  (4.3 sec)\n",
            "2550/10000: d_loss: 0.6775,  a_loss: 0.8104.  (4.3 sec)\n",
            "2600/10000: d_loss: 0.6793,  a_loss: 0.8264.  (4.3 sec)\n",
            "2650/10000: d_loss: 0.6796,  a_loss: 0.7993.  (4.3 sec)\n",
            "2700/10000: d_loss: 0.6723,  a_loss: 0.7485.  (4.8 sec)\n",
            "2750/10000: d_loss: 0.7120,  a_loss: 0.8263.  (4.3 sec)\n",
            "2800/10000: d_loss: 0.7057,  a_loss: 0.7683.  (4.3 sec)\n",
            "2850/10000: d_loss: 0.7065,  a_loss: 0.8068.  (4.3 sec)\n",
            "2900/10000: d_loss: 0.7164,  a_loss: 0.8658.  (4.3 sec)\n",
            "2950/10000: d_loss: 0.6875,  a_loss: 0.7865.  (4.3 sec)\n",
            "3000/10000: d_loss: 0.6927,  a_loss: 0.7832.  (4.3 sec)\n",
            "3050/10000: d_loss: 0.6942,  a_loss: 0.8408.  (4.8 sec)\n",
            "3100/10000: d_loss: 0.6895,  a_loss: 0.7853.  (4.9 sec)\n",
            "3150/10000: d_loss: 0.6973,  a_loss: 0.7909.  (4.3 sec)\n"
          ],
          "name": "stdout"
        }
      ]
    },
    {
      "cell_type": "code",
      "metadata": {
        "id": "_sHovPSeZFzR"
      },
      "source": [
        "images_ = []\n",
        "for filename in tqdm(os.listdir(RES_DIR)[:30]):\n",
        "    pic = Image.open(RES_DIR + filename).crop(crop_rect)\n",
        "    pic.thumbnail((WIDTH, HEIGHT), Image.ANTIALIAS)\n",
        "    images.append(np.uint8(pic)) #Normalize the images\n",
        "images_ = np.array(images) / 255\n",
        "images_.shape #print first 5 images\n",
        "plt.figure(1, figsize=(10, 10))\n",
        "for i in range(25):\n",
        "    plt.subplot(5, 5, i+1)\n",
        "    plt.imshow(images_[i])\n",
        "    plt.axis('off')\n",
        "plt.show()"
      ],
      "execution_count": null,
      "outputs": []
    },
    {
      "cell_type": "code",
      "metadata": {
        "id": "tgiXnM3xZTFy"
      },
      "source": [
        "images = []\n",
        "for pic_file in tqdm(os.listdir(PIC_DIR)[:IMAGES_COUNT]):\n",
        "    pic = Image.open(PIC_DIR + pic_file).crop(crop_rect)\n",
        "    pic.thumbnail((WIDTH, HEIGHT), Image.ANTIALIAS)\n",
        "    images.append(np.uint8(pic)) #Normalize the images\n",
        "images = np.array(images) / 255\n",
        "images.shape #print first 5 images\n",
        "plt.figure(1, figsize=(10, 10))\n",
        "for i in range(5):\n",
        "    plt.subplot(5, 5, i+1)\n",
        "    plt.imshow(images[i])\n",
        "    plt.axis('off')\n",
        "plt.show()"
      ],
      "execution_count": null,
      "outputs": []
    },
    {
      "cell_type": "code",
      "metadata": {
        "id": "JvMqrndbVcTv"
      },
      "source": [
        "import imageio\n",
        "import shutil\n",
        "images_to_gif = []\n",
        "for filename in os.listdir(RES_DIR):\n",
        "    images_to_gif.append(imageio.imread(RES_DIR + '/' + filename))\n",
        "imageio.mimsave('trainnig_visual.gif', images_to_gif)\n",
        "shutil.rmtree(RES_DIR)"
      ],
      "execution_count": null,
      "outputs": []
    }
  ]
}